{
 "cells": [
  {
   "cell_type": "code",
   "execution_count": 1,
   "id": "82226064",
   "metadata": {},
   "outputs": [],
   "source": [
    "from py_sc_1282 import get_trends\n",
    "from py_sc_1282 import update_db\n",
    "from datetime import datetime\n",
    "import pandas as pd"
   ]
  },
  {
   "cell_type": "code",
   "execution_count": 2,
   "id": "db81531e",
   "metadata": {},
   "outputs": [
    {
     "name": "stdout",
     "output_type": "stream",
     "text": [
      "Enter target country (use correct capitalization and white space, empty this field if you are pushing labeled table): \n"
     ]
    }
   ],
   "source": [
    "# Input the target country\n",
    "\n",
    "val = input(\"Enter target country (use correct capitalization and white space, empty this field if you are pushing labeled table): \")"
   ]
  },
  {
   "cell_type": "code",
   "execution_count": null,
   "id": "f3aaa8a4",
   "metadata": {},
   "outputs": [],
   "source": [
    "# Input date of interest\n",
    "date_of_interest = input(\"Enter the date of the data (YYY-MM-DD), insert this if you intend to only update database, too:\")"
   ]
  },
  {
   "cell_type": "code",
   "execution_count": null,
   "id": "40437101",
   "metadata": {
    "scrolled": true
   },
   "outputs": [],
   "source": [
    "# Input the number of passed data points or offset if the day change time is missed\n",
    "\n",
    "offset = input(\"Enter the number of offset if the day change time is missed: \")"
   ]
  },
  {
   "cell_type": "code",
   "execution_count": null,
   "id": "afdd1581",
   "metadata": {},
   "outputs": [],
   "source": [
    "# Input the number of data rows\n",
    "\n",
    "rows = input(\"Enter the number of data rows available: \")"
   ]
  },
  {
   "cell_type": "code",
   "execution_count": null,
   "id": "4e0dff94",
   "metadata": {},
   "outputs": [],
   "source": [
    "# Input country data to be pushed to database after being labeled\n",
    "\n",
    "val_labeled = input(\"Labeled country data to be pushed, if there is any (use correct capitalization and white space): \")"
   ]
  },
  {
   "cell_type": "code",
   "execution_count": null,
   "id": "f3c1a79b",
   "metadata": {},
   "outputs": [],
   "source": [
    "# Create list of countries in need of labeling\n",
    "to_label = ['Indonesia',\n",
    "            'United States',\n",
    "            'Australia',\n",
    "            'United Kingdom',\n",
    "            'Singapore']"
   ]
  },
  {
   "cell_type": "code",
   "execution_count": null,
   "id": "a46c4ef7",
   "metadata": {},
   "outputs": [],
   "source": [
    "# Create dictionary of country names for mapping\n",
    "\n",
    "ctr = {'Indonesia': 'indonesia',\n",
    "      'Singapore': 'singapore',\n",
    "      'United States': 'united_states',\n",
    "      'United Kingdom': 'united_kingdom',\n",
    "      'Australia': 'australia',\n",
    "      'India': 'india',\n",
    "      'South Korea': 'south_korea',\n",
    "      'Russia': 'russia',\n",
    "      'Germany': 'germany',\n",
    "      'France': 'france',\n",
    "      'Japan': 'japan'}"
   ]
  },
  {
   "cell_type": "code",
   "execution_count": null,
   "id": "59834263",
   "metadata": {},
   "outputs": [],
   "source": [
    "# Create function for processing between the in need of label and no need for label countries\n",
    "\n",
    "if val !=\"\" and val not in to_label :\n",
    "    df = get_trends(val, date_of_interest, offset, rows)\n",
    "    no_topic = True\n",
    "    update_db(df, no_topic)\n",
    "    \n",
    "elif val !=\"\" and val in to_label:\n",
    "    get_trends(val, date_of_interest, offset, rows)\n",
    "    \n",
    "elif val_labeled != \"\" :\n",
    "    country_filename = ctr[val_labeled]\n",
    "    path = \"C:/Users/Nugroho Budianggoro/Documents/NadiData/1282/data/\"\n",
    "    df = pd.read_excel(path + \"trending_searches_\" + country_filename + \"_\" + date_of_interest + \".xlsx\")\n",
    "    no_topic = False\n",
    "    update_db(df, no_topic)"
   ]
  }
 ],
 "metadata": {
  "kernelspec": {
   "display_name": "Python 3 (ipykernel)",
   "language": "python",
   "name": "python3"
  },
  "language_info": {
   "codemirror_mode": {
    "name": "ipython",
    "version": 3
   },
   "file_extension": ".py",
   "mimetype": "text/x-python",
   "name": "python",
   "nbconvert_exporter": "python",
   "pygments_lexer": "ipython3",
   "version": "3.9.7"
  }
 },
 "nbformat": 4,
 "nbformat_minor": 5
}
