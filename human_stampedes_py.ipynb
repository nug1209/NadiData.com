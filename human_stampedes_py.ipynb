{
 "cells": [
  {
   "cell_type": "markdown",
   "id": "69cce4d3",
   "metadata": {},
   "source": [
    "Nugroho Budianggoro, 01/02/2022\n",
    "\n",
    "This script is to analyze human stampedes data by means of k-means clustering and two methods of topic modeling."
   ]
  },
  {
   "cell_type": "code",
   "execution_count": 1,
   "id": "7544f6f5",
   "metadata": {},
   "outputs": [],
   "source": [
    "# Imports\n",
    "\n",
    "import pandas as pd\n",
    "import numpy as np\n",
    "from sklearn.feature_extraction.text import TfidfVectorizer\n",
    "import matplotlib.pyplot as plt\n",
    "from sklearn.cluster import KMeans\n",
    "from sklearn.feature_extraction import text\n",
    "from nltk.stem import WordNetLemmatizer\n",
    "from collections import Counter\n",
    "from sklearn.preprocessing import normalize"
   ]
  },
  {
   "cell_type": "code",
   "execution_count": 2,
   "id": "c10498ac",
   "metadata": {},
   "outputs": [
    {
     "data": {
      "text/html": [
       "<div>\n",
       "<style scoped>\n",
       "    .dataframe tbody tr th:only-of-type {\n",
       "        vertical-align: middle;\n",
       "    }\n",
       "\n",
       "    .dataframe tbody tr th {\n",
       "        vertical-align: top;\n",
       "    }\n",
       "\n",
       "    .dataframe thead th {\n",
       "        text-align: right;\n",
       "    }\n",
       "</style>\n",
       "<table border=\"1\" class=\"dataframe\">\n",
       "  <thead>\n",
       "    <tr style=\"text-align: right;\">\n",
       "      <th></th>\n",
       "      <th>Event ID</th>\n",
       "      <th>Event Name</th>\n",
       "      <th>Date</th>\n",
       "      <th>Number of Deaths</th>\n",
       "      <th>Country</th>\n",
       "      <th>Place</th>\n",
       "      <th>Description</th>\n",
       "    </tr>\n",
       "  </thead>\n",
       "  <tbody>\n",
       "    <tr>\n",
       "      <th>0</th>\n",
       "      <td>1</td>\n",
       "      <td>1807 Newgate disaster</td>\n",
       "      <td>1807-02-23</td>\n",
       "      <td>30</td>\n",
       "      <td>United Kingdom</td>\n",
       "      <td>Newgate Prison,\\nLondon</td>\n",
       "      <td>Dozens of spectators were crushed to death whe...</td>\n",
       "    </tr>\n",
       "    <tr>\n",
       "      <th>1</th>\n",
       "      <td>2</td>\n",
       "      <td>-</td>\n",
       "      <td>1809-03-29</td>\n",
       "      <td>5000</td>\n",
       "      <td>Portugal</td>\n",
       "      <td>Ponte das Barcas [pt]\\nOporto</td>\n",
       "      <td>Thousands of Portuguese civilians died trying ...</td>\n",
       "    </tr>\n",
       "    <tr>\n",
       "      <th>2</th>\n",
       "      <td>3</td>\n",
       "      <td>Carnival tragedy of 1823</td>\n",
       "      <td>1823-02-12</td>\n",
       "      <td>110</td>\n",
       "      <td>Malta</td>\n",
       "      <td>Valletta</td>\n",
       "      <td>About 110 boys died in a crush while attemptin...</td>\n",
       "    </tr>\n",
       "    <tr>\n",
       "      <th>3</th>\n",
       "      <td>4</td>\n",
       "      <td>Theatre Royal disaster</td>\n",
       "      <td>1849-02-19</td>\n",
       "      <td>65</td>\n",
       "      <td>United Kingdom</td>\n",
       "      <td>Glasgow, Scotland</td>\n",
       "      <td>A human crush occurred at the Theatre Royal, D...</td>\n",
       "    </tr>\n",
       "    <tr>\n",
       "      <th>4</th>\n",
       "      <td>5</td>\n",
       "      <td>-</td>\n",
       "      <td>1865-01-16</td>\n",
       "      <td>20</td>\n",
       "      <td>United Kingdom</td>\n",
       "      <td>Dundee, Scotland</td>\n",
       "      <td>A crush occurred during admissions into Bell S...</td>\n",
       "    </tr>\n",
       "  </tbody>\n",
       "</table>\n",
       "</div>"
      ],
      "text/plain": [
       "   Event ID                Event Name        Date  Number of Deaths  \\\n",
       "0         1     1807 Newgate disaster  1807-02-23                30   \n",
       "1         2                         -  1809-03-29              5000   \n",
       "2         3  Carnival tragedy of 1823  1823-02-12               110   \n",
       "3         4    Theatre Royal disaster  1849-02-19                65   \n",
       "4         5                         -  1865-01-16                20   \n",
       "\n",
       "          Country                          Place  \\\n",
       "0  United Kingdom        Newgate Prison,\\nLondon   \n",
       "1        Portugal  Ponte das Barcas [pt]\\nOporto   \n",
       "2           Malta                       Valletta   \n",
       "3  United Kingdom              Glasgow, Scotland   \n",
       "4  United Kingdom               Dundee, Scotland   \n",
       "\n",
       "                                         Description  \n",
       "0  Dozens of spectators were crushed to death whe...  \n",
       "1  Thousands of Portuguese civilians died trying ...  \n",
       "2  About 110 boys died in a crush while attemptin...  \n",
       "3  A human crush occurred at the Theatre Royal, D...  \n",
       "4  A crush occurred during admissions into Bell S...  "
      ]
     },
     "execution_count": 2,
     "metadata": {},
     "output_type": "execute_result"
    }
   ],
   "source": [
    "# Get the dataset\n",
    "\n",
    "url = \"https://github.com/nugi1209/NadiData.com/raw/main/2021_12_16_human_stampedes_DATASET.csv\"\n",
    "df = pd.read_csv(url)\n",
    "df.head()"
   ]
  },
  {
   "cell_type": "code",
   "execution_count": 3,
   "id": "2b6349a8",
   "metadata": {},
   "outputs": [],
   "source": [
    "# Clean and lemmatize data.\n",
    "# The cleaning involves transforming string to lowercase and put together words if all characters in word are text\n",
    "\n",
    "lemmatizer = WordNetLemmatizer()\n",
    "clean_data = []\n",
    "for doc in df['Description']:\n",
    "    doc = doc.lower()\n",
    "    doc_cleaned = ' '.join(lemmatizer.lemmatize(word) for word in doc.split() if word.isalpha())\n",
    "    clean_data.append(doc_cleaned)"
   ]
  },
  {
   "cell_type": "code",
   "execution_count": 4,
   "id": "bc67fbbd",
   "metadata": {},
   "outputs": [],
   "source": [
    "# Add stop words that can decrease insight and initiated vectorizer\n",
    "\n",
    "add_stop_words = ['killed', 'injured', 'stampede', 'least', 'crowd', 'died', 'one', 'police', 'trying', 'people',\n",
    "                  'many', 'crushed', 'death', 'three', 'women', 'two', 'occured', 'others', 'fell', 'caused', 'wa',\n",
    "                  'leading', 'number', 'trampled', 'rushed', 'causing', 'day', 'near', 'deaths', 'get', 'tried',\n",
    "                  'new', 'later', 'end', 'following', 'injuries', 'crush', 'person', 'tear', 'panic', 'india', 'occurred',\n",
    "                 'ghat', 'saree', 'bihar', 'sabarimala', 'uttar', 'jamarat', 'dasehra']\n",
    "stop_words = text.ENGLISH_STOP_WORDS.union(add_stop_words)\n",
    "vectorizer = TfidfVectorizer(stop_words=stop_words)"
   ]
  },
  {
   "cell_type": "code",
   "execution_count": 5,
   "id": "ff791c89",
   "metadata": {},
   "outputs": [],
   "source": [
    "# Vectorize and then normalize data\n",
    "\n",
    "data = vectorizer.fit_transform(clean_data)\n",
    "data = normalize(data)"
   ]
  },
  {
   "cell_type": "code",
   "execution_count": 6,
   "id": "b86c2eef",
   "metadata": {
    "scrolled": true
   },
   "outputs": [
    {
     "data": {
      "image/png": "[encoded data removed]",
      "text/plain": [
       "<Figure size 432x288 with 1 Axes>"
      ]
     },
     "metadata": {
      "needs_background": "light"
     },
     "output_type": "display_data"
    }
   ],
   "source": [
    "# Create elbow method visualization to get optimum number of cluster\n",
    "\n",
    "sum_of_squared_distances = []\n",
    "K = range(2,10)\n",
    "for k in K:\n",
    "    km = KMeans(n_clusters=k, max_iter=200, n_init=10)\n",
    "    km = km.fit(data)\n",
    "    sum_of_squared_distances.append(km.inertia_)\n",
    "plt.plot(K, sum_of_squared_distances, 'bx-')\n",
    "plt.xlabel('k')\n",
    "plt.ylabel('sum of squared distances')\n",
    "plt.title('Elbow Method for Optimal K')\n",
    "plt.show()"
   ]
  },
  {
   "cell_type": "code",
   "execution_count": 7,
   "id": "74afa054",
   "metadata": {},
   "outputs": [
    {
     "data": {
      "text/plain": [
       "KMeans(n_clusters=9, random_state=42)"
      ]
     },
     "execution_count": 7,
     "metadata": {},
     "output_type": "execute_result"
    }
   ],
   "source": [
    "# Use the optimum number of cluster to build the clustering\n",
    "\n",
    "k = 9\n",
    "kmeans = KMeans(n_clusters=k, random_state=42)\n",
    "kmeans.fit(data)"
   ]
  },
  {
   "cell_type": "code",
   "execution_count": 8,
   "id": "7bbae89a",
   "metadata": {},
   "outputs": [
    {
     "name": "stdout",
     "output_type": "stream",
     "text": [
      "Counter({0: 69, 1: 22, 5: 21, 3: 18, 2: 15, 4: 13, 8: 9, 7: 8, 6: 8})\n"
     ]
    }
   ],
   "source": [
    "# Count the occurence of data points for each cluster\n",
    "\n",
    "clusters = kmeans.labels_\n",
    "print(Counter(clusters))"
   ]
  },
  {
   "cell_type": "code",
   "execution_count": 9,
   "id": "d91554c3",
   "metadata": {},
   "outputs": [
    {
     "data": {
      "text/plain": [
       "(183, 1135)"
      ]
     },
     "execution_count": 9,
     "metadata": {},
     "output_type": "execute_result"
    }
   ],
   "source": [
    "# Try to get to 10 most common words for each cluster along with the cluster number\n",
    "# and the occurence of data points of each cluster\n",
    "\n",
    "# Get unique cluster labels\n",
    "labels = np.unique(clusters)\n",
    "\n",
    "# Transform vectorized data to array\n",
    "data_array = data.toarray()\n",
    "\n",
    "# Create counter for data points of each cluster\n",
    "counter = Counter(clusters)\n",
    "\n",
    "data_array.shape"
   ]
  },
  {
   "cell_type": "code",
   "execution_count": 25,
   "id": "b3581819",
   "metadata": {
    "scrolled": false
   },
   "outputs": [
    {
     "name": "stdout",
     "output_type": "stream",
     "text": [
      "Cluster: 0\n",
      "Data count: 69\n",
      "data_array[id_temp]\n",
      "(69, 1135)\n",
      "x_means\n",
      "(1135,)\n",
      "      features     score\n",
      "0      concert  0.036887\n",
      "1  overcrowded  0.026687\n",
      "2        dozen  0.023477\n",
      "3     teenager  0.023335\n",
      "4         club  0.020331\n",
      "5      falling  0.018976\n",
      "6         city  0.017919\n",
      "7      refugee  0.015889\n",
      "8        group  0.015541\n",
      "9          rap  0.015272\n",
      "Cluster: 1\n",
      "Data count: 22\n",
      "data_array[id_temp]\n",
      "(22, 1135)\n",
      "x_means\n",
      "(1135,)\n",
      "    features     score\n",
      "0    stadium  0.277521\n",
      "1        cup  0.065624\n",
      "2      match  0.061136\n",
      "3        fan  0.061130\n",
      "4      enter  0.047245\n",
      "5      world  0.041225\n",
      "6   football  0.040121\n",
      "7  spectator  0.037436\n",
      "8      north  0.035795\n",
      "9      broke  0.033835\n",
      "Cluster: 2\n",
      "Data count: 15\n",
      "data_array[id_temp]\n",
      "(15, 1135)\n",
      "x_means\n",
      "(1135,)\n",
      "   features     score\n",
      "0   stoning  0.177419\n",
      "1   pilgrim  0.160637\n",
      "2     devil  0.111215\n",
      "3     mecca  0.099487\n",
      "4     saudi  0.097911\n",
      "5      hajj  0.082120\n",
      "6      exit  0.079230\n",
      "7    ritual  0.078625\n",
      "8    bridge  0.072004\n",
      "9  incident  0.060410\n",
      "Cluster: 3\n",
      "Data count: 18\n",
      "data_array[id_temp]\n",
      "(18, 1135)\n",
      "x_means\n",
      "(1135,)\n",
      "      features     score\n",
      "0  celebration  0.119563\n",
      "1          fan  0.109799\n",
      "2     football  0.103184\n",
      "3         game  0.093829\n",
      "4      student  0.084365\n",
      "5     republic  0.048953\n",
      "6       gandhi  0.035814\n",
      "7          gas  0.034807\n",
      "8      shortly  0.031318\n",
      "9        accra  0.031213\n",
      "Cluster: 4\n",
      "Data count: 13\n",
      "data_array[id_temp]\n",
      "(13, 1135)\n",
      "x_means\n",
      "(1135,)\n",
      "   features     score\n",
      "0  festival  0.183566\n",
      "1   killing  0.094749\n",
      "2  injuring  0.083621\n",
      "3     large  0.073743\n",
      "4    pushed  0.062024\n",
      "5     broke  0.053713\n",
      "6   lantern  0.053673\n",
      "7     hindu  0.049296\n",
      "8     music  0.048341\n",
      "9      body  0.046573\n",
      "Cluster: 5\n",
      "Data count: 21\n",
      "data_array[id_temp]\n",
      "(21, 1135)\n",
      "x_means\n",
      "(1135,)\n",
      "    features     score\n",
      "0      child  0.143528\n",
      "1      woman  0.092266\n",
      "2    barrier  0.046682\n",
      "3  resulting  0.044678\n",
      "4  synagogue  0.044364\n",
      "5    collect  0.038608\n",
      "6    gallery  0.037003\n",
      "7   stairway  0.035595\n",
      "8      stair  0.034849\n",
      "9   brooklyn  0.032787\n",
      "Cluster: 6\n",
      "Data count: 8\n",
      "data_array[id_temp]\n",
      "(8, 1135)\n",
      "x_means\n",
      "(1135,)\n",
      "      features     score\n",
      "0       temple  0.433549\n",
      "1    stampeded  0.084434\n",
      "2       indian  0.084248\n",
      "3        hindu  0.081092\n",
      "4         devi  0.070071\n",
      "5  mandhradevi  0.068383\n",
      "6        queue  0.068188\n",
      "7   baidyanath  0.068188\n",
      "8        dozen  0.066158\n",
      "9      rushing  0.063181\n",
      "Cluster: 7\n",
      "Data count: 8\n",
      "data_array[id_temp]\n",
      "(8, 1135)\n",
      "x_means\n",
      "(1135,)\n",
      "      features     score\n",
      "0    religious  0.190374\n",
      "1         bank  0.143869\n",
      "2     ceremony  0.125230\n",
      "3       ganges  0.123742\n",
      "4         dead  0.075551\n",
      "5      pilgrim  0.070378\n",
      "6       bridge  0.069364\n",
      "7          dam  0.063494\n",
      "8  remembrance  0.063494\n",
      "9        river  0.061946\n",
      "Cluster: 8\n",
      "Data count: 9\n",
      "data_array[id_temp]\n",
      "(9, 1135)\n",
      "x_means\n",
      "(1135,)\n",
      "   features     score\n",
      "0   station  0.219591\n",
      "1     train  0.109805\n",
      "2      road  0.076030\n",
      "3  apparent  0.070564\n",
      "4     rhode  0.066133\n",
      "5     heavy  0.065600\n",
      "6     woman  0.062602\n",
      "7  northern  0.059254\n",
      "8      rain  0.057122\n",
      "9      west  0.055159\n"
     ]
    }
   ],
   "source": [
    "# Process one cluster at a time\n",
    "for label in labels:\n",
    "#     Print cluster label\n",
    "    print('Cluster: {}'.format(label))\n",
    "    print('Data count: {}'.format(counter[label]))\n",
    "#     Get the index of the data points from the cluster currently being processed\n",
    "    id_temp = np.where(clusters==label)\n",
    "#     Get the average tfidf score of every word feature from all data points\n",
    "    x_means = np.mean(data_array[id_temp], axis = 0) # returns average score across cluster\n",
    "#     Get sorted index of features based on average score    \n",
    "    sorted_means = np.argsort(x_means)[::-1][:10]\n",
    "#     Get feature column names to be incorporated to the results\n",
    "    features = vectorizer.get_feature_names()\n",
    "#     Get two dimension list of features and their score based on the sorted features\n",
    "    best_features = [(features[i], x_means[i]) for i in sorted_means]\n",
    "#     Add column names to the sorted features two-dimentional list\n",
    "    df = pd.DataFrame(best_features, columns = ['features', 'score'])\n",
    "    print(df)"
   ]
  },
  {
   "cell_type": "code",
   "execution_count": 11,
   "id": "0d859014",
   "metadata": {},
   "outputs": [],
   "source": [
    "# prediction = kmeans.predict(X)\n",
    "# labels = np.unique(prediction)\n",
    "# X_toarray = X.toarray()\n",
    "# dfs = []\n",
    "# for label in labels:\n",
    "#     id_temp = np.where(prediction==label) # indices for each cluster\n",
    "#     x_means = np.mean(X_toarray[id_temp], axis = 0) # returns average score across cluster\n",
    "#     sorted_means = np.argsort(x_means)[::-1][:10] # indices with top 20 scores\n",
    "#     features = vectorizer.get_feature_names()\n",
    "#     best_features = [(features[i], x_means[i]) for i in sorted_means]\n",
    "#     df = pd.DataFrame(best_features, columns = ['features', 'score'])\n",
    "#     dfs.append(df)\n",
    "\n",
    "# dfs\n",
    "\n",
    "\n"
   ]
  },
  {
   "cell_type": "code",
   "execution_count": 12,
   "id": "80225fe4",
   "metadata": {},
   "outputs": [],
   "source": [
    "# prediction = kmeans.predict(X)\n",
    "# labels = np.unique(prediction)\n",
    "# X_toarray = X.toarray()\n",
    "# for label in labels:\n",
    "#     print(\"Label: {}\".format(label))\n",
    "#     id_temp = np.where(prediction==label) # indices for each cluster\n",
    "#     x_means = np.mean(X_toarray[id_temp], axis = 0) # returns average score across cluster\n",
    "#     sorted_means = np.argsort(x_means)[::-1][:10] # indices with top 20 scores\n",
    "#     features = vectorizer.get_feature_names()\n",
    "#     best_features = [(features[i], x_means[i]) for i in sorted_means]\n",
    "#     df = pd.DataFrame(best_features, columns = ['features', 'score'])\n",
    "#     print(df)\n",
    "    \n",
    "# >>> terms = tfidf_vector.get_feature_names()\n",
    "# >>> centroids = kmeans.cluster_centers_\n",
    "# >>> for cluster, index_list in cluster_label.items():\n",
    "# ...     counter = Counter(cluster_label[cluster])\n",
    "# ...     print('cluster_{}: {} samples'.format(cluster, len(index_list)))\n",
    "# ...     for label_index, count in sorted(counter.items(),\n",
    "#                                key=lambda x: x[1], reverse=True):\n",
    "# ...         print('{}: {} samples'.format(label_names[label_index], count))\n",
    "# ...     print('Top 10 terms:')\n",
    "# ...     for ind in centroids[cluster].argsort()[-10:]:\n",
    "# ...         print(' %s' % terms[ind], end=\"\")\n",
    "# ...     print()"
   ]
  },
  {
   "cell_type": "code",
   "execution_count": 13,
   "id": "0643444a",
   "metadata": {},
   "outputs": [],
   "source": [
    "# tf_idf_norm = normalize(tf_idf)\n",
    "# tf_idf_array = tf_idf_norm.toarray()\n",
    "\n",
    "# def get_top_features_cluster(tf_idf_array, prediction, n_feats):\n",
    "#     labels = np.unique(prediction)\n",
    "#     dfs = []\n",
    "#     for label in labels:\n",
    "#         id_temp = np.where(prediction==label) # indices for each cluster\n",
    "#         x_means = np.mean(tf_idf_array[id_temp], axis = 0) # returns average score across cluster\n",
    "#         sorted_means = np.argsort(x_means)[::-1][:n_feats] # indices with top 20 scores\n",
    "#         features = tf_idf_vectorizor.get_feature_names()\n",
    "#         best_features = [(features[i], x_means[i]) for i in sorted_means]\n",
    "#         df = pd.DataFrame(best_features, columns = ['features', 'score'])\n",
    "#         dfs.append(df)\n",
    "#     return dfs\n",
    "# dfs = get_top_features_cluster(tf_idf_array, prediction, 15)"
   ]
  },
  {
   "cell_type": "code",
   "execution_count": 14,
   "id": "c368da48",
   "metadata": {},
   "outputs": [],
   "source": [
    "# clusters = kmeans.predict(X)\n",
    "# terms = vectorizer.get_feature_names()\n",
    "# centroids = kmeans.cluster_centers_\n",
    "# X"
   ]
  },
  {
   "cell_type": "code",
   "execution_count": 15,
   "id": "b6401824",
   "metadata": {},
   "outputs": [],
   "source": [
    "# labels = kmeans.predict(X)\n",
    "# cluster_label = {i: labels[np.where(clusters==i)] for i in range(k)}\n",
    "# terms = vectorizer.get_feature_names()\n",
    "# centroids = kmeans.cluster_centers_\n",
    "# for cluster, index_list in cluster_label.items():\n",
    "#     counter = Counter(cluster_label[cluster])\n",
    "#     print('cluster {}: {} samples'.format(cluster, len(index_list)))\n",
    "#     print('Top 10 terms:')\n",
    "#     for ind in centroids[cluster].argsort()[-10]:\n",
    "#         print(' %s' % terms[ind], end=\"\")\n",
    "#     print()"
   ]
  },
  {
   "cell_type": "code",
   "execution_count": 16,
   "id": "1ba7e44a",
   "metadata": {},
   "outputs": [],
   "source": [
    "# from sklearn.datasets import fetch_20newsgroups\n",
    "# categories = ['sci.space']\n",
    "# groups = fetch_20newsgroups(subset='all', categories=categories)\n",
    "# labels = groups.target"
   ]
  },
  {
   "cell_type": "code",
   "execution_count": 17,
   "id": "5f3f0227",
   "metadata": {},
   "outputs": [],
   "source": [
    "# label_names = groups.target_names\n",
    "# print(label_names)\n",
    "# print(labels)\n",
    "# print(len(labels))"
   ]
  }
 ],
 "metadata": {
  "kernelspec": {
   "display_name": "Python 3 (ipykernel)",
   "language": "python",
   "name": "python3"
  },
  "language_info": {
   "codemirror_mode": {
    "name": "ipython",
    "version": 3
   },
   "file_extension": ".py",
   "mimetype": "text/x-python",
   "name": "python",
   "nbconvert_exporter": "python",
   "pygments_lexer": "ipython3",
   "version": "3.9.7"
  }
 },
 "nbformat": 4,
 "nbformat_minor": 5
}
