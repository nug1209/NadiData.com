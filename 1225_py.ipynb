{
 "cells": [
  {
   "cell_type": "markdown",
   "id": "69cce4d3",
   "metadata": {},
   "source": [
    "Nugroho Budianggoro, 01/02/2022\n",
    "\n",
    "This script is to analyze human stampedes data by means of k-means clustering and two methods of topic modeling.\n",
    "\n",
    "### K-means Clustering"
   ]
  },
  {
   "cell_type": "code",
   "execution_count": 1,
   "id": "7544f6f5",
   "metadata": {},
   "outputs": [
    {
     "name": "stderr",
     "output_type": "stream",
     "text": [
      "[nltk_data] Downloading package names to C:\\Users\\Nugroho\n",
      "[nltk_data]     Budianggoro\\AppData\\Roaming\\nltk_data...\n",
      "[nltk_data]   Package names is already up-to-date!\n"
     ]
    },
    {
     "data": {
      "text/plain": [
       "True"
      ]
     },
     "execution_count": 1,
     "metadata": {},
     "output_type": "execute_result"
    }
   ],
   "source": [
    "# Imports\n",
    "\n",
    "import pandas as pd\n",
    "import numpy as np\n",
    "import nltk\n",
    "from sklearn.feature_extraction.text import TfidfVectorizer\n",
    "import matplotlib.pyplot as plt\n",
    "from sklearn.cluster import KMeans\n",
    "from sklearn.feature_extraction import text\n",
    "from nltk.stem import WordNetLemmatizer\n",
    "from collections import Counter\n",
    "from sklearn.preprocessing import normalize\n",
    "from sklearn.decomposition import NMF\n",
    "from sklearn.decomposition import LatentDirichletAllocation\n",
    "from sklearn.feature_extraction.text import CountVectorizer\n",
    "from nltk.corpus import names\n",
    "nltk.download('names')"
   ]
  },
  {
   "cell_type": "code",
   "execution_count": 2,
   "id": "c10498ac",
   "metadata": {},
   "outputs": [
    {
     "name": "stdout",
     "output_type": "stream",
     "text": [
      "(183, 7)\n"
     ]
    },
    {
     "data": {
      "text/html": [
       "<div>\n",
       "<style scoped>\n",
       "    .dataframe tbody tr th:only-of-type {\n",
       "        vertical-align: middle;\n",
       "    }\n",
       "\n",
       "    .dataframe tbody tr th {\n",
       "        vertical-align: top;\n",
       "    }\n",
       "\n",
       "    .dataframe thead th {\n",
       "        text-align: right;\n",
       "    }\n",
       "</style>\n",
       "<table border=\"1\" class=\"dataframe\">\n",
       "  <thead>\n",
       "    <tr style=\"text-align: right;\">\n",
       "      <th></th>\n",
       "      <th>Event ID</th>\n",
       "      <th>Event Name</th>\n",
       "      <th>Date</th>\n",
       "      <th>Number of Deaths</th>\n",
       "      <th>Country</th>\n",
       "      <th>Place</th>\n",
       "      <th>Description</th>\n",
       "    </tr>\n",
       "  </thead>\n",
       "  <tbody>\n",
       "    <tr>\n",
       "      <th>0</th>\n",
       "      <td>1</td>\n",
       "      <td>1807 Newgate disaster</td>\n",
       "      <td>1807-02-23</td>\n",
       "      <td>30</td>\n",
       "      <td>United Kingdom</td>\n",
       "      <td>Newgate Prison,\\nLondon</td>\n",
       "      <td>Dozens of spectators were crushed to death whe...</td>\n",
       "    </tr>\n",
       "    <tr>\n",
       "      <th>1</th>\n",
       "      <td>2</td>\n",
       "      <td>-</td>\n",
       "      <td>1809-03-29</td>\n",
       "      <td>5000</td>\n",
       "      <td>Portugal</td>\n",
       "      <td>Ponte das Barcas [pt]\\nOporto</td>\n",
       "      <td>Thousands of Portuguese civilians died trying ...</td>\n",
       "    </tr>\n",
       "    <tr>\n",
       "      <th>2</th>\n",
       "      <td>3</td>\n",
       "      <td>Carnival tragedy of 1823</td>\n",
       "      <td>1823-02-12</td>\n",
       "      <td>110</td>\n",
       "      <td>Malta</td>\n",
       "      <td>Valletta</td>\n",
       "      <td>About 110 boys died in a crush while attemptin...</td>\n",
       "    </tr>\n",
       "    <tr>\n",
       "      <th>3</th>\n",
       "      <td>4</td>\n",
       "      <td>Theatre Royal disaster</td>\n",
       "      <td>1849-02-19</td>\n",
       "      <td>65</td>\n",
       "      <td>United Kingdom</td>\n",
       "      <td>Glasgow, Scotland</td>\n",
       "      <td>A human crush occurred at the Theatre Royal, D...</td>\n",
       "    </tr>\n",
       "    <tr>\n",
       "      <th>4</th>\n",
       "      <td>5</td>\n",
       "      <td>-</td>\n",
       "      <td>1865-01-16</td>\n",
       "      <td>20</td>\n",
       "      <td>United Kingdom</td>\n",
       "      <td>Dundee, Scotland</td>\n",
       "      <td>A crush occurred during admissions into Bell S...</td>\n",
       "    </tr>\n",
       "  </tbody>\n",
       "</table>\n",
       "</div>"
      ],
      "text/plain": [
       "   Event ID                Event Name        Date  Number of Deaths  \\\n",
       "0         1     1807 Newgate disaster  1807-02-23                30   \n",
       "1         2                         -  1809-03-29              5000   \n",
       "2         3  Carnival tragedy of 1823  1823-02-12               110   \n",
       "3         4    Theatre Royal disaster  1849-02-19                65   \n",
       "4         5                         -  1865-01-16                20   \n",
       "\n",
       "          Country                          Place  \\\n",
       "0  United Kingdom        Newgate Prison,\\nLondon   \n",
       "1        Portugal  Ponte das Barcas [pt]\\nOporto   \n",
       "2           Malta                       Valletta   \n",
       "3  United Kingdom              Glasgow, Scotland   \n",
       "4  United Kingdom               Dundee, Scotland   \n",
       "\n",
       "                                         Description  \n",
       "0  Dozens of spectators were crushed to death whe...  \n",
       "1  Thousands of Portuguese civilians died trying ...  \n",
       "2  About 110 boys died in a crush while attemptin...  \n",
       "3  A human crush occurred at the Theatre Royal, D...  \n",
       "4  A crush occurred during admissions into Bell S...  "
      ]
     },
     "execution_count": 2,
     "metadata": {},
     "output_type": "execute_result"
    }
   ],
   "source": [
    "# Get the dataset\n",
    "\n",
    "url = \"https://github.com/nugi1209/NadiData.com/raw/main/1225_dataset.csv\"\n",
    "df = pd.read_csv(url)\n",
    "print(df.shape)\n",
    "df.head()"
   ]
  },
  {
   "cell_type": "code",
   "execution_count": 3,
   "id": "2b6349a8",
   "metadata": {},
   "outputs": [],
   "source": [
    "# Clean and lemmatize data.\n",
    "# The cleaning involves transforming string to lowercase,\n",
    "# put together words if all characters in word are text,\n",
    "# discard names\n",
    "\n",
    "lemmatizer = WordNetLemmatizer()\n",
    "clean_data = []\n",
    "all_names = set(names.words())\n",
    "for doc in df['Description']:\n",
    "    doc = doc.lower()\n",
    "    doc_cleaned = ' '.join(lemmatizer.lemmatize(word) for word in doc.split() if word.isalpha()\n",
    "                           and word not in all_names)\n",
    "    clean_data.append(doc_cleaned)"
   ]
  },
  {
   "cell_type": "code",
   "execution_count": 4,
   "id": "bc67fbbd",
   "metadata": {},
   "outputs": [],
   "source": [
    "# Add stop words that can decrease insight\n",
    "\n",
    "add_stop_words = ['killed', 'injured', 'stampede', 'least', 'crowd', 'died', 'one', 'police', 'trying', 'people',\n",
    "                  'many', 'crushed', 'death', 'three', 'women', 'two', 'occured', 'others', 'fell', 'caused', 'wa',\n",
    "                  'leading', 'number', 'trampled', 'rushed', 'causing', 'day', 'near', 'deaths', 'get', 'tried',\n",
    "                  'new', 'later', 'end', 'following', 'injuries', 'crush', 'person', 'tear', 'panic', 'india', 'occurred',\n",
    "                 'ghat', 'saree', 'bihar', 'sabarimala', 'uttar', 'jamarat', 'dasehra']\n",
    "stop_words = text.ENGLISH_STOP_WORDS.union(add_stop_words)\n"
   ]
  },
  {
   "cell_type": "code",
   "execution_count": 5,
   "id": "ff791c89",
   "metadata": {},
   "outputs": [],
   "source": [
    "# Do tfidf vectorizing and then normalize data\n",
    "tfidf_vectorizer = TfidfVectorizer(stop_words=stop_words)\n",
    "data = tfidf_vectorizer.fit_transform(clean_data)\n",
    "data = normalize(data)"
   ]
  },
  {
   "cell_type": "code",
   "execution_count": 6,
   "id": "b86c2eef",
   "metadata": {
    "scrolled": true
   },
   "outputs": [
    {
     "data": {
      "image/png": "[encoded data removed]",
      "text/plain": [
       "<Figure size 432x288 with 1 Axes>"
      ]
     },
     "metadata": {
      "needs_background": "light"
     },
     "output_type": "display_data"
    }
   ],
   "source": [
    "# Create elbow method visualization to get optimum number of cluster\n",
    "\n",
    "sum_of_squared_distances = []\n",
    "K = range(2,10)\n",
    "for k in K:\n",
    "    km = KMeans(n_clusters=k, max_iter=200, n_init=10)\n",
    "    km = km.fit(data)\n",
    "    sum_of_squared_distances.append(km.inertia_)\n",
    "plt.plot(K, sum_of_squared_distances, 'bx-')\n",
    "plt.xlabel('k')\n",
    "plt.ylabel('sum of squared distances')\n",
    "plt.title('Elbow Method for Optimal K')\n",
    "plt.show()"
   ]
  },
  {
   "cell_type": "code",
   "execution_count": 7,
   "id": "74afa054",
   "metadata": {},
   "outputs": [
    {
     "data": {
      "text/plain": [
       "KMeans(n_clusters=9, random_state=42)"
      ]
     },
     "execution_count": 7,
     "metadata": {},
     "output_type": "execute_result"
    }
   ],
   "source": [
    "# Use the optimum number of cluster to build the clustering\n",
    "\n",
    "k = 9\n",
    "kmeans = KMeans(n_clusters=k, random_state=42)\n",
    "kmeans.fit(data)"
   ]
  },
  {
   "cell_type": "code",
   "execution_count": 8,
   "id": "7bbae89a",
   "metadata": {},
   "outputs": [
    {
     "name": "stdout",
     "output_type": "stream",
     "text": [
      "Counter({0: 69, 1: 22, 5: 21, 3: 18, 2: 15, 4: 13, 8: 9, 7: 8, 6: 8})\n"
     ]
    }
   ],
   "source": [
    "# Count the occurence of data points for each cluster\n",
    "\n",
    "clusters = kmeans.labels_\n",
    "print(Counter(clusters))"
   ]
  },
  {
   "cell_type": "code",
   "execution_count": 9,
   "id": "d91554c3",
   "metadata": {},
   "outputs": [
    {
     "data": {
      "text/plain": [
       "(183, 1135)"
      ]
     },
     "execution_count": 9,
     "metadata": {},
     "output_type": "execute_result"
    }
   ],
   "source": [
    "# Try to get to 10 most common words for each cluster along with the cluster number\n",
    "# and the occurence of data points of each cluster\n",
    "\n",
    "# Get unique cluster labels\n",
    "labels = np.unique(clusters)\n",
    "\n",
    "# Transform vectorized data to array\n",
    "data_array = data.toarray()\n",
    "\n",
    "# Create counter for data points of each cluster\n",
    "counter = Counter(clusters)\n",
    "\n",
    "data_array.shape"
   ]
  },
  {
   "cell_type": "code",
   "execution_count": 10,
   "id": "b3581819",
   "metadata": {
    "scrolled": true
   },
   "outputs": [
    {
     "name": "stdout",
     "output_type": "stream",
     "text": [
      "Cluster: 1\n",
      "Data count: 69\n",
      "      features     score\n",
      "0      concert  0.036887\n",
      "1  overcrowded  0.026687\n",
      "2        dozen  0.023477\n",
      "3     teenager  0.023335\n",
      "Cluster: 2\n",
      "Data count: 22\n",
      "  features     score\n",
      "0  stadium  0.277521\n",
      "1      cup  0.065624\n",
      "2    match  0.061136\n",
      "3      fan  0.061130\n",
      "Cluster: 3\n",
      "Data count: 15\n",
      "  features     score\n",
      "0  stoning  0.177419\n",
      "1  pilgrim  0.160637\n",
      "2    devil  0.111215\n",
      "3    mecca  0.099487\n",
      "Cluster: 4\n",
      "Data count: 18\n",
      "      features     score\n",
      "0  celebration  0.119563\n",
      "1          fan  0.109799\n",
      "2     football  0.103184\n",
      "3         game  0.093829\n",
      "Cluster: 5\n",
      "Data count: 13\n",
      "   features     score\n",
      "0  festival  0.183566\n",
      "1   killing  0.094749\n",
      "2  injuring  0.083621\n",
      "3     large  0.073743\n",
      "Cluster: 6\n",
      "Data count: 21\n",
      "    features     score\n",
      "0      child  0.143528\n",
      "1      woman  0.092266\n",
      "2    barrier  0.046682\n",
      "3  resulting  0.044678\n",
      "Cluster: 7\n",
      "Data count: 8\n",
      "    features     score\n",
      "0     temple  0.433549\n",
      "1  stampeded  0.084434\n",
      "2     indian  0.084248\n",
      "3      hindu  0.081092\n",
      "Cluster: 8\n",
      "Data count: 8\n",
      "    features     score\n",
      "0  religious  0.190374\n",
      "1       bank  0.143869\n",
      "2   ceremony  0.125230\n",
      "3     ganges  0.123742\n",
      "Cluster: 9\n",
      "Data count: 9\n",
      "   features     score\n",
      "0   station  0.219591\n",
      "1     train  0.109805\n",
      "2      road  0.076030\n",
      "3  apparent  0.070564\n"
     ]
    }
   ],
   "source": [
    "# Process one cluster at a time\n",
    "for label in labels:\n",
    "#     Print cluster label\n",
    "    print('Cluster: {}'.format(label + 1))\n",
    "    print('Data count: {}'.format(counter[label]))\n",
    "#     Get the index of the data points from the cluster currently being processed\n",
    "    id_temp = np.where(clusters==label)\n",
    "#     Get the average tfidf score of every word feature from all data points\n",
    "    x_means = np.mean(data_array[id_temp], axis = 0) # returns average score across cluster\n",
    "#     Get sorted index of features based on average score    \n",
    "    sorted_means = np.argsort(x_means)[::-1][:4]\n",
    "#     Get feature column names to be incorporated to the results\n",
    "    features = tfidf_vectorizer.get_feature_names()\n",
    "#     Get two dimension list of features and their score based on the sorted features\n",
    "    best_features = [(features[i], x_means[i]) for i in sorted_means]\n",
    "#     Add column names to the sorted features two-dimentional list\n",
    "    df = pd.DataFrame(best_features, columns = ['features', 'score'])\n",
    "    print(df)"
   ]
  },
  {
   "cell_type": "markdown",
   "id": "9796ded2",
   "metadata": {},
   "source": [
    "### Topic Modeling Using Non-negative Matrix Factorization (NMF)"
   ]
  },
  {
   "cell_type": "code",
   "execution_count": 11,
   "id": "d7308fd6",
   "metadata": {},
   "outputs": [],
   "source": [
    "# Instantiate the NMF object and define the number of topics\n",
    "\n",
    "t = 10\n",
    "nmf_model = NMF(n_components=t, init='nndsvda', random_state=42)"
   ]
  },
  {
   "cell_type": "code",
   "execution_count": 12,
   "id": "810d1444",
   "metadata": {},
   "outputs": [],
   "source": [
    "# Do count vectorizing\n",
    "\n",
    "count_vectorizer = CountVectorizer(stop_words=stop_words, max_features=None, max_df=0.5, min_df=2)\n",
    "\n",
    "data_count = count_vectorizer.fit_transform(clean_data)\n"
   ]
  },
  {
   "cell_type": "code",
   "execution_count": 13,
   "id": "ac880d05",
   "metadata": {
    "scrolled": false
   },
   "outputs": [
    {
     "data": {
      "text/plain": [
       "NMF(init='nndsvda', n_components=10, random_state=42)"
      ]
     },
     "execution_count": 13,
     "metadata": {},
     "output_type": "execute_result"
    }
   ],
   "source": [
    "# Fit the NMF algorithm\n",
    "\n",
    "nmf_model.fit(data_count)"
   ]
  },
  {
   "cell_type": "code",
   "execution_count": 14,
   "id": "938f11f3",
   "metadata": {},
   "outputs": [
    {
     "data": {
      "text/plain": [
       "(183, 10)"
      ]
     },
     "execution_count": 14,
     "metadata": {},
     "output_type": "execute_result"
    }
   ],
   "source": [
    "# Get the features of the NMF model that is fitted to the data\n",
    "\n",
    "nmf_transform  = nmf_model.transform(data_count)\n",
    "nmf_transform.shape"
   ]
  },
  {
   "cell_type": "code",
   "execution_count": 15,
   "id": "2cae2ef0",
   "metadata": {
    "scrolled": true
   },
   "outputs": [
    {
     "data": {
      "text/plain": [
       "(10, 321)"
      ]
     },
     "execution_count": 15,
     "metadata": {},
     "output_type": "execute_result"
    }
   ],
   "source": [
    "# Check out the components of the model\n",
    "\n",
    "nmf_model.components_.shape"
   ]
  },
  {
   "cell_type": "code",
   "execution_count": 16,
   "id": "2109563a",
   "metadata": {},
   "outputs": [
    {
     "data": {
      "text/plain": [
       "(10, 321)"
      ]
     },
     "execution_count": 16,
     "metadata": {},
     "output_type": "execute_result"
    }
   ],
   "source": [
    "# Create dataframe of features components\n",
    "\n",
    "nmf_components_df = pd.DataFrame(nmf_model.components_, columns=count_vectorizer.get_feature_names())\n",
    "nmf_components_df.shape"
   ]
  },
  {
   "cell_type": "code",
   "execution_count": 17,
   "id": "0be48d80",
   "metadata": {},
   "outputs": [
    {
     "data": {
      "text/plain": [
       "9    31\n",
       "8    27\n",
       "0    24\n",
       "2    20\n",
       "4    19\n",
       "5    18\n",
       "1    15\n",
       "7    11\n",
       "3     9\n",
       "6     9\n",
       "dtype: int64"
      ]
     },
     "execution_count": 17,
     "metadata": {},
     "output_type": "execute_result"
    }
   ],
   "source": [
    "# Get frequency of each topic in the data\n",
    "\n",
    "# Get the maximum topic value of each data points and then count each\n",
    "nmf_topic_freq = pd.DataFrame(nmf_transform).idxmax(axis=1).value_counts()\n",
    "nmf_topic_freq"
   ]
  },
  {
   "cell_type": "code",
   "execution_count": 18,
   "id": "c80ed44b",
   "metadata": {
    "scrolled": false
   },
   "outputs": [
    {
     "name": "stdout",
     "output_type": "stream",
     "text": [
      "Topic 1\n",
      "Frequency: 24\n",
      "stadium    3.549128\n",
      "enter      0.779738\n",
      "cup        0.721586\n",
      "match      0.686105\n",
      "world      0.463494\n",
      "Name: 0, dtype: float64\n",
      "\n",
      "\n",
      "Topic 2\n",
      "Frequency: 15\n",
      "fan         1.727470\n",
      "football    0.918356\n",
      "gas         0.664143\n",
      "fired       0.543218\n",
      "disaster    0.505742\n",
      "Name: 1, dtype: float64\n",
      "\n",
      "\n",
      "Topic 3\n",
      "Frequency: 20\n",
      "pilgrim     2.054816\n",
      "saudi       0.890397\n",
      "hajj        0.494517\n",
      "arabia      0.444419\n",
      "incident    0.429549\n",
      "Name: 2, dtype: float64\n",
      "\n",
      "\n",
      "Topic 4\n",
      "Frequency: 9\n",
      "student     1.997339\n",
      "game        1.679910\n",
      "football    0.684784\n",
      "stadium     0.647833\n",
      "capacity    0.630077\n",
      "Name: 3, dtype: float64\n",
      "\n",
      "\n",
      "Topic 5\n",
      "Frequency: 19\n",
      "child        2.032182\n",
      "school       0.658294\n",
      "stairwell    0.565176\n",
      "primary      0.472596\n",
      "pupil        0.433328\n",
      "Name: 4, dtype: float64\n",
      "\n",
      "\n",
      "Topic 6\n",
      "Frequency: 18\n",
      "club        1.320599\n",
      "woman       1.196667\n",
      "said        0.874825\n",
      "arrested    0.549748\n",
      "result      0.475791\n",
      "Name: 5, dtype: float64\n",
      "\n",
      "\n",
      "Topic 7\n",
      "Frequency: 9\n",
      "force       1.147775\n",
      "security    1.080679\n",
      "fired       0.823868\n",
      "gas         0.659313\n",
      "festival    0.603160\n",
      "Name: 6, dtype: float64\n",
      "\n",
      "\n",
      "Topic 8\n",
      "Frequency: 11\n",
      "gate        1.896710\n",
      "fan         1.291233\n",
      "stair       0.625984\n",
      "collapse    0.475690\n",
      "escape      0.475389\n",
      "Name: 7, dtype: float64\n",
      "\n",
      "\n",
      "Topic 9\n",
      "Frequency: 27\n",
      "concert     1.574009\n",
      "fan         0.643144\n",
      "festival    0.567030\n",
      "band        0.477583\n",
      "member      0.394511\n",
      "Name: 8, dtype: float64\n",
      "\n",
      "\n",
      "Topic 10\n",
      "Frequency: 31\n",
      "church     0.985725\n",
      "broke      0.974792\n",
      "rain       0.435888\n",
      "station    0.429345\n",
      "temple     0.420864\n",
      "Name: 9, dtype: float64\n",
      "\n",
      "\n"
     ]
    }
   ],
   "source": [
    "# Get top terms for each topic\n",
    "\n",
    "# Iterate for each topic\n",
    "for topic in range(nmf_components_df.shape[0]):\n",
    "#     Locate the topic\n",
    "    tmp = nmf_components_df.iloc[topic]\n",
    "    print(f'Topic {topic+1}')\n",
    "#     Print topic frequency\n",
    "    print(f'Frequency: {nmf_topic_freq[topic]}')\n",
    "#     Get the largest 5 words\n",
    "    print(tmp.nlargest(5))\n",
    "    print('\\n')"
   ]
  },
  {
   "cell_type": "markdown",
   "id": "ca224315",
   "metadata": {},
   "source": [
    "### Topic Modeling Using Latent Dirichlet Allocation (LDA)"
   ]
  },
  {
   "cell_type": "code",
   "execution_count": 19,
   "id": "b4d6f74b",
   "metadata": {},
   "outputs": [
    {
     "data": {
      "text/plain": [
       "LatentDirichletAllocation(random_state=42)"
      ]
     },
     "execution_count": 19,
     "metadata": {},
     "output_type": "execute_result"
    }
   ],
   "source": [
    "# Assign number of topics\n",
    "\n",
    "t = 10\n",
    "\n",
    "# Instatiate the algorithm and fit the algorithm to count vectorized data\n",
    "\n",
    "lda_model = LatentDirichletAllocation(n_components=t, learning_method='batch', random_state=42)\n",
    "\n",
    "lda_model.fit(data_count)"
   ]
  },
  {
   "cell_type": "code",
   "execution_count": 20,
   "id": "b6115d87",
   "metadata": {},
   "outputs": [
    {
     "data": {
      "text/plain": [
       "(183, 10)"
      ]
     },
     "execution_count": 20,
     "metadata": {},
     "output_type": "execute_result"
    }
   ],
   "source": [
    "# Get the features of the NMF model that is fitted to the data\n",
    "\n",
    "lda_transform  = lda_model.transform(data_count)\n",
    "lda_transform.shape"
   ]
  },
  {
   "cell_type": "code",
   "execution_count": 21,
   "id": "0e5efc0c",
   "metadata": {},
   "outputs": [
    {
     "data": {
      "text/plain": [
       "(10, 321)"
      ]
     },
     "execution_count": 21,
     "metadata": {},
     "output_type": "execute_result"
    }
   ],
   "source": [
    "# Check out the components of the model\n",
    "\n",
    "lda_model.components_.shape"
   ]
  },
  {
   "cell_type": "code",
   "execution_count": 22,
   "id": "10d60e8f",
   "metadata": {},
   "outputs": [
    {
     "data": {
      "text/plain": [
       "(10, 321)"
      ]
     },
     "execution_count": 22,
     "metadata": {},
     "output_type": "execute_result"
    }
   ],
   "source": [
    "# Create dataframe of features components\n",
    "\n",
    "lda_components_df = pd.DataFrame(lda_model.components_, columns=count_vectorizer.get_feature_names())\n",
    "lda_components_df.shape"
   ]
  },
  {
   "cell_type": "code",
   "execution_count": 23,
   "id": "b7f71beb",
   "metadata": {},
   "outputs": [
    {
     "data": {
      "text/plain": [
       "0    29\n",
       "8    25\n",
       "3    21\n",
       "6    18\n",
       "1    17\n",
       "2    17\n",
       "4    16\n",
       "5    16\n",
       "7    14\n",
       "9    10\n",
       "dtype: int64"
      ]
     },
     "execution_count": 23,
     "metadata": {},
     "output_type": "execute_result"
    }
   ],
   "source": [
    "# Get frequency of each topic in the data\n",
    "\n",
    "# Get the maximum topic value of each data points and then count each\n",
    "lda_topic_freq = pd.DataFrame(lda_transform).idxmax(axis=1).value_counts()\n",
    "lda_topic_freq"
   ]
  },
  {
   "cell_type": "code",
   "execution_count": 31,
   "id": "4f9e50c4",
   "metadata": {},
   "outputs": [
    {
     "data": {
      "text/plain": [
       "0      7\n",
       "1      0\n",
       "2      1\n",
       "3      4\n",
       "4      4\n",
       "      ..\n",
       "178    5\n",
       "179    9\n",
       "180    0\n",
       "181    0\n",
       "182    3\n",
       "Length: 183, dtype: int64"
      ]
     },
     "execution_count": 31,
     "metadata": {},
     "output_type": "execute_result"
    }
   ],
   "source": [
    "# temp\n",
    "\n",
    "lda_df = pd.DataFrame(lda_transform).idxmax(axis=1)"
   ]
  },
  {
   "cell_type": "code",
   "execution_count": 24,
   "id": "2716d033",
   "metadata": {
    "scrolled": false
   },
   "outputs": [
    {
     "name": "stdout",
     "output_type": "stream",
     "text": [
      "Topic 1\n",
      "Frequency: 29\n",
      "bridge         5.100108\n",
      "concert        5.100033\n",
      "dozen          3.100064\n",
      "celebration    3.100027\n",
      "stoning        3.099996\n",
      "Name: 0, dtype: float64\n",
      "\n",
      "\n",
      "Topic 2\n",
      "Frequency: 17\n",
      "student    6.099994\n",
      "fan        5.100067\n",
      "game       5.100045\n",
      "temple     5.100013\n",
      "concert    3.100049\n",
      "Name: 1, dtype: float64\n",
      "\n",
      "\n",
      "Topic 3\n",
      "Frequency: 17\n",
      "child       5.100237\n",
      "stairway    5.075241\n",
      "city        4.100027\n",
      "aged        3.099998\n",
      "escape      3.074537\n",
      "Name: 2, dtype: float64\n",
      "\n",
      "\n",
      "Topic 4\n",
      "Frequency: 21\n",
      "festival    9.100037\n",
      "stadium     6.100040\n",
      "broke       5.099991\n",
      "dead        3.847981\n",
      "child       3.100063\n",
      "Name: 3, dtype: float64\n",
      "\n",
      "\n",
      "Topic 5\n",
      "Frequency: 16\n",
      "pilgrim     6.100196\n",
      "fired       4.100014\n",
      "gas         3.911913\n",
      "canister    3.100001\n",
      "church      3.100001\n",
      "Name: 4, dtype: float64\n",
      "\n",
      "\n",
      "Topic 6\n",
      "Frequency: 16\n",
      "exit       3.100057\n",
      "led        3.100056\n",
      "church     3.100012\n",
      "devil      3.100012\n",
      "stoning    3.100001\n",
      "Name: 5, dtype: float64\n",
      "\n",
      "\n",
      "Topic 7\n",
      "Frequency: 18\n",
      "stadium    9.100097\n",
      "concert    4.100029\n",
      "enter      3.100079\n",
      "match      3.100046\n",
      "group      3.100029\n",
      "Name: 6, dtype: float64\n",
      "\n",
      "\n",
      "Topic 8\n",
      "Frequency: 14\n",
      "woman     8.057653\n",
      "dozen     3.100072\n",
      "club      3.100043\n",
      "temple    2.100053\n",
      "child     2.100040\n",
      "Name: 7, dtype: float64\n",
      "\n",
      "\n",
      "Topic 9\n",
      "Frequency: 25\n",
      "stadium     12.100175\n",
      "fan          7.100062\n",
      "cup          6.100022\n",
      "gate         5.100081\n",
      "football     4.100047\n",
      "Name: 8, dtype: float64\n",
      "\n",
      "\n",
      "Topic 10\n",
      "Frequency: 10\n",
      "school       4.100003\n",
      "gathered     3.100022\n",
      "religious    2.100066\n",
      "thousand     2.100013\n",
      "bank         2.100003\n",
      "Name: 9, dtype: float64\n",
      "\n",
      "\n"
     ]
    }
   ],
   "source": [
    "# Get top terms for each topic\n",
    "\n",
    "# Iterate each topic\n",
    "for topic in range(lda_components_df.shape[0]):\n",
    "#     Locate the topic\n",
    "    tmp = lda_components_df.iloc[topic]\n",
    "    print(f'Topic {topic+1}')\n",
    "#     Print topic frequency\n",
    "    print(f'Frequency: {lda_topic_freq[topic]}')\n",
    "#     Get the largest 5 words\n",
    "    print(tmp.nlargest(5))\n",
    "    print('\\n')"
   ]
  },
  {
   "cell_type": "code",
   "execution_count": 28,
   "id": "a7e17564",
   "metadata": {
    "scrolled": true
   },
   "outputs": [
    {
     "data": {
      "text/plain": [
       "array([0.87141738, 0.01428675, 0.01429088, 0.01428618, 0.01428626,\n",
       "       0.01428571, 0.01428571, 0.01428592, 0.01428722, 0.01428797])"
      ]
     },
     "execution_count": 28,
     "metadata": {},
     "output_type": "execute_result"
    }
   ],
   "source": [
    "lda_transform[1]"
   ]
  }
 ],
 "metadata": {
  "kernelspec": {
   "display_name": "Python 3 (ipykernel)",
   "language": "python",
   "name": "python3"
  },
  "language_info": {
   "codemirror_mode": {
    "name": "ipython",
    "version": 3
   },
   "file_extension": ".py",
   "mimetype": "text/x-python",
   "name": "python",
   "nbconvert_exporter": "python",
   "pygments_lexer": "ipython3",
   "version": "3.9.7"
  }
 },
 "nbformat": 4,
 "nbformat_minor": 5
}
