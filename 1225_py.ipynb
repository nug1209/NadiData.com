{
 "cells": [
  {
   "cell_type": "markdown",
   "id": "69cce4d3",
   "metadata": {},
   "source": [
    "Nugroho Budianggoro, NadiData.com, 01/02/2022.\n",
    "\n",
    "This script is to analyze human stampedes data by means of k-means clustering and two methods of topic modeling.\n",
    "\n",
    "### K-means Clustering"
   ]
  },
  {
   "cell_type": "code",
   "execution_count": 1,
   "id": "7544f6f5",
   "metadata": {},
   "outputs": [
    {
     "name": "stderr",
     "output_type": "stream",
     "text": [
      "[nltk_data] Downloading package names to C:\\Users\\Nugroho\n",
      "[nltk_data]     Budianggoro\\AppData\\Roaming\\nltk_data...\n",
      "[nltk_data]   Package names is already up-to-date!\n"
     ]
    },
    {
     "data": {
      "text/plain": [
       "True"
      ]
     },
     "execution_count": 1,
     "metadata": {},
     "output_type": "execute_result"
    }
   ],
   "source": [
    "# Imports\n",
    "\n",
    "import pandas as pd\n",
    "import numpy as np\n",
    "import nltk\n",
    "from sklearn.feature_extraction.text import TfidfVectorizer\n",
    "import matplotlib.pyplot as plt\n",
    "from sklearn.cluster import KMeans\n",
    "from sklearn.feature_extraction import text\n",
    "from nltk.stem import WordNetLemmatizer\n",
    "from collections import Counter\n",
    "from sklearn.preprocessing import normalize\n",
    "from sklearn.decomposition import NMF\n",
    "from sklearn.decomposition import LatentDirichletAllocation\n",
    "from sklearn.feature_extraction.text import CountVectorizer\n",
    "from nltk.corpus import names\n",
    "import gensim\n",
    "from nltk.tokenize.casual import casual_tokenize\n",
    "from gensim.corpora import Dictionary\n",
    "from gensim.models.nmf import Nmf as GensimNmf\n",
    "from gensim.models import CoherenceModel\n",
    "from operator import itemgetter\n",
    "import matplotlib.pyplot as plt\n",
    "\n",
    "nltk.download('names')"
   ]
  },
  {
   "cell_type": "code",
   "execution_count": 2,
   "id": "c10498ac",
   "metadata": {},
   "outputs": [
    {
     "name": "stdout",
     "output_type": "stream",
     "text": [
      "(183, 7)\n"
     ]
    },
    {
     "data": {
      "text/html": [
       "<div>\n",
       "<style scoped>\n",
       "    .dataframe tbody tr th:only-of-type {\n",
       "        vertical-align: middle;\n",
       "    }\n",
       "\n",
       "    .dataframe tbody tr th {\n",
       "        vertical-align: top;\n",
       "    }\n",
       "\n",
       "    .dataframe thead th {\n",
       "        text-align: right;\n",
       "    }\n",
       "</style>\n",
       "<table border=\"1\" class=\"dataframe\">\n",
       "  <thead>\n",
       "    <tr style=\"text-align: right;\">\n",
       "      <th></th>\n",
       "      <th>Event ID</th>\n",
       "      <th>Event Name</th>\n",
       "      <th>Date</th>\n",
       "      <th>Number of Deaths</th>\n",
       "      <th>Country</th>\n",
       "      <th>Place</th>\n",
       "      <th>Description</th>\n",
       "    </tr>\n",
       "  </thead>\n",
       "  <tbody>\n",
       "    <tr>\n",
       "      <th>0</th>\n",
       "      <td>1</td>\n",
       "      <td>1807 Newgate disaster</td>\n",
       "      <td>1807-02-23</td>\n",
       "      <td>30</td>\n",
       "      <td>United Kingdom</td>\n",
       "      <td>Newgate Prison,\\nLondon</td>\n",
       "      <td>Dozens of spectators were crushed to death whe...</td>\n",
       "    </tr>\n",
       "    <tr>\n",
       "      <th>1</th>\n",
       "      <td>2</td>\n",
       "      <td>-</td>\n",
       "      <td>1809-03-29</td>\n",
       "      <td>5000</td>\n",
       "      <td>Portugal</td>\n",
       "      <td>Ponte das Barcas [pt]\\nOporto</td>\n",
       "      <td>Thousands of Portuguese civilians died trying ...</td>\n",
       "    </tr>\n",
       "    <tr>\n",
       "      <th>2</th>\n",
       "      <td>3</td>\n",
       "      <td>Carnival tragedy of 1823</td>\n",
       "      <td>1823-02-12</td>\n",
       "      <td>110</td>\n",
       "      <td>Malta</td>\n",
       "      <td>Valletta</td>\n",
       "      <td>About 110 boys died in a crush while attemptin...</td>\n",
       "    </tr>\n",
       "    <tr>\n",
       "      <th>3</th>\n",
       "      <td>4</td>\n",
       "      <td>Theatre Royal disaster</td>\n",
       "      <td>1849-02-19</td>\n",
       "      <td>65</td>\n",
       "      <td>United Kingdom</td>\n",
       "      <td>Glasgow, Scotland</td>\n",
       "      <td>A human crush occurred at the Theatre Royal, D...</td>\n",
       "    </tr>\n",
       "    <tr>\n",
       "      <th>4</th>\n",
       "      <td>5</td>\n",
       "      <td>-</td>\n",
       "      <td>1865-01-16</td>\n",
       "      <td>20</td>\n",
       "      <td>United Kingdom</td>\n",
       "      <td>Dundee, Scotland</td>\n",
       "      <td>A crush occurred during admissions into Bell S...</td>\n",
       "    </tr>\n",
       "  </tbody>\n",
       "</table>\n",
       "</div>"
      ],
      "text/plain": [
       "   Event ID                Event Name        Date  Number of Deaths  \\\n",
       "0         1     1807 Newgate disaster  1807-02-23                30   \n",
       "1         2                         -  1809-03-29              5000   \n",
       "2         3  Carnival tragedy of 1823  1823-02-12               110   \n",
       "3         4    Theatre Royal disaster  1849-02-19                65   \n",
       "4         5                         -  1865-01-16                20   \n",
       "\n",
       "          Country                          Place  \\\n",
       "0  United Kingdom        Newgate Prison,\\nLondon   \n",
       "1        Portugal  Ponte das Barcas [pt]\\nOporto   \n",
       "2           Malta                       Valletta   \n",
       "3  United Kingdom              Glasgow, Scotland   \n",
       "4  United Kingdom               Dundee, Scotland   \n",
       "\n",
       "                                         Description  \n",
       "0  Dozens of spectators were crushed to death whe...  \n",
       "1  Thousands of Portuguese civilians died trying ...  \n",
       "2  About 110 boys died in a crush while attemptin...  \n",
       "3  A human crush occurred at the Theatre Royal, D...  \n",
       "4  A crush occurred during admissions into Bell S...  "
      ]
     },
     "execution_count": 2,
     "metadata": {},
     "output_type": "execute_result"
    }
   ],
   "source": [
    "# Get the dataset\n",
    "\n",
    "url = \"https://github.com/nugi1209/NadiData.com/raw/main/1225_dataset.csv\"\n",
    "df = pd.read_csv(url)\n",
    "print(df.shape)\n",
    "df.head()"
   ]
  },
  {
   "cell_type": "code",
   "execution_count": 3,
   "id": "2b6349a8",
   "metadata": {},
   "outputs": [],
   "source": [
    "# Clean and lemmatize data.\n",
    "# The cleaning involves transforming string to lowercase,\n",
    "# put together words if all characters in word are text,\n",
    "# discard names\n",
    "\n",
    "lemmatizer = WordNetLemmatizer()\n",
    "clean_data = []\n",
    "all_names = set(names.words())\n",
    "for doc in df['Description']:\n",
    "    doc = doc.lower()\n",
    "    doc_cleaned = ' '.join(lemmatizer.lemmatize(word) for word in doc.split() if word.isalpha()\n",
    "                           and word not in all_names)\n",
    "    clean_data.append(doc_cleaned)"
   ]
  },
  {
   "cell_type": "code",
   "execution_count": 4,
   "id": "bc67fbbd",
   "metadata": {},
   "outputs": [],
   "source": [
    "# Add stop words that can decrease insight\n",
    "\n",
    "add_stop_words = ['killed', 'injured', 'stampede', 'least', 'crowd', 'died', 'one', 'trying', 'people',\n",
    "                  'many', 'death', 'three', 'women', 'two', 'occured', 'others', 'caused', 'wa', 'republic',\n",
    "                  'leading', 'number', 'causing', 'day', 'near', 'deaths', 'get', 'tried', 'new', 'later',\n",
    "                  'end', 'following', 'injuries', 'person', 'tear', 'occurred', 'human', 'killing',\n",
    "                  'heading', 'incident', 'body', 'history', 'year', 'according', 'official', 'injury',\n",
    "                  'large', 'safety', 'capacity', 'toll', 'said', 'event', 'result', 'west', 'dead', 'resulting',\n",
    "                  'confirmed', 'tragedy', 'aged', 'small', 'false', 'lost', 'shortly', 'dozen',\n",
    "                  'são', 'final', 'marking', 'rhode', 'location', 'million', 'main', 'reduced',\n",
    "                  'approximately', 'report', 'state', 'home', 'time', 'reported', 'mass',\n",
    "                  'thousand', 'led', 'group', 'félix', 'ivory', 'including', 'gallery', 'seven', 'far',\n",
    "                  'arrested','attempting', 'season', 'tp', 'mazembe', 'claimed', 'injuring', 'use', 'instantly',\n",
    "                  'tuesday', 'northern', 'ikea', 'cause', 'present', 'member', 'suffered', 'began', 'gathered', 'start',\n",
    "                  'uhuru', 'expected', 'exacerbated', 'stade', 'seat', 'try', 'good', 'area',\n",
    "                  'set', 'champion', 'big', 'impossible', 'disaster', 'place', 'resulted', 'available', 'local', 'water'\n",
    "                 ]\n",
    "stop_words = text.ENGLISH_STOP_WORDS.union(add_stop_words)\n"
   ]
  },
  {
   "cell_type": "code",
   "execution_count": 5,
   "id": "4b99d554",
   "metadata": {},
   "outputs": [],
   "source": [
    "# Tokenize data so that it can be fitted to the scoring calculations\n",
    "\n",
    "tokenized_data = []\n",
    "\n",
    "for text in clean_data:\n",
    "    res = casual_tokenize(text)\n",
    "    tokenized_data.append(res)\n",
    "    \n",
    "# tokenized_data[0]"
   ]
  },
  {
   "cell_type": "code",
   "execution_count": 6,
   "id": "7f3f0909",
   "metadata": {},
   "outputs": [],
   "source": [
    "# # Perform the scoring calculation using Gensim NMF to determine the optimum number of topics\n",
    "\n",
    "# dictionary = Dictionary(tokenized_data)\n",
    "\n",
    "# dictionary.filter_extremes(no_below=3, no_above=0.85, keep_n=5000)\n",
    "\n",
    "# corpus = [dictionary.doc2bow(text) for text in tokenized_data]\n",
    "\n",
    "# topic_nums = list(np.arange(5, 30 + 1))\n",
    "\n",
    "# coherence_scores = []\n",
    "\n",
    "# for num in topic_nums:\n",
    "#     nmf = GensimNmf(\n",
    "#             corpus=corpus,\n",
    "#             num_topics=num,\n",
    "#             id2word=dictionary,\n",
    "#             chunksize=200,\n",
    "#             passes=5,\n",
    "#             kappa=.1,\n",
    "#             minimum_probability=0.01,\n",
    "#             w_max_iter=300,\n",
    "#             h_stop_condition=0.001,\n",
    "#             eval_every=10,\n",
    "#             normalize=True,\n",
    "#             random_state=42\n",
    "#             )\n",
    "#     cm = CoherenceModel(\n",
    "#             model=nmf,\n",
    "#             texts=tokenized_data,\n",
    "#             dictionary=dictionary,\n",
    "#             coherence='c_v'\n",
    "#             )\n",
    "#     coherence_scores.append(round(cm.get_coherence(), 5))\n",
    "\n",
    "# scores = list(zip(topic_nums, coherence_scores))\n",
    "# best_num_topics = sorted(scores, key=itemgetter(1), reverse=True)[0][0]\n",
    "# print(scores)\n",
    "# print(best_num_topics)\n",
    "# plt.plot(topic_nums, coherence_scores)\n",
    "# plt.show"
   ]
  },
  {
   "cell_type": "code",
   "execution_count": 7,
   "id": "ff791c89",
   "metadata": {},
   "outputs": [],
   "source": [
    "# Do tfidf vectorizing and then normalize data\n",
    "tfidf_vectorizer = TfidfVectorizer(stop_words=stop_words)\n",
    "data = tfidf_vectorizer.fit_transform(clean_data)\n",
    "data = normalize(data)"
   ]
  },
  {
   "cell_type": "code",
   "execution_count": 8,
   "id": "b86c2eef",
   "metadata": {
    "scrolled": true
   },
   "outputs": [
    {
     "data": {
      "image/png": "[encoded data removed]",
      "text/plain": [
       "<Figure size 432x288 with 1 Axes>"
      ]
     },
     "metadata": {
      "needs_background": "light"
     },
     "output_type": "display_data"
    }
   ],
   "source": [
    "# Create elbow method visualization to get optimum number of cluster\n",
    "\n",
    "sum_of_squared_distances = []\n",
    "K = range(2,15)\n",
    "for k in K:\n",
    "    km = KMeans(n_clusters=k, max_iter=200, n_init=10)\n",
    "    km = km.fit(data)\n",
    "    sum_of_squared_distances.append(km.inertia_)\n",
    "plt.plot(K, sum_of_squared_distances, 'bx-')\n",
    "plt.xlabel('k')\n",
    "plt.ylabel('sum of squared distances')\n",
    "plt.title('Elbow Method for Optimal K')\n",
    "plt.show()"
   ]
  },
  {
   "cell_type": "code",
   "execution_count": 9,
   "id": "74afa054",
   "metadata": {},
   "outputs": [
    {
     "data": {
      "text/plain": [
       "KMeans(random_state=42)"
      ]
     },
     "execution_count": 9,
     "metadata": {},
     "output_type": "execute_result"
    }
   ],
   "source": [
    "# Use the optimum number of cluster to build the clustering\n",
    "\n",
    "k = 8\n",
    "kmeans = KMeans(n_clusters=k, random_state=42)\n",
    "kmeans.fit(data)"
   ]
  },
  {
   "cell_type": "code",
   "execution_count": 10,
   "id": "7bbae89a",
   "metadata": {},
   "outputs": [
    {
     "name": "stdout",
     "output_type": "stream",
     "text": [
      "Counter({0: 68, 7: 27, 2: 23, 6: 21, 1: 16, 4: 14, 3: 10, 5: 4})\n"
     ]
    }
   ],
   "source": [
    "# Count the occurence of data points for each cluster\n",
    "\n",
    "clusters = kmeans.labels_\n",
    "print(Counter(clusters))"
   ]
  },
  {
   "cell_type": "code",
   "execution_count": 11,
   "id": "d91554c3",
   "metadata": {},
   "outputs": [
    {
     "data": {
      "text/plain": [
       "(183, 1060)"
      ]
     },
     "execution_count": 11,
     "metadata": {},
     "output_type": "execute_result"
    }
   ],
   "source": [
    "# Try to get to 10 most common words for each cluster along with the cluster number\n",
    "# and the occurence of data points of each cluster\n",
    "\n",
    "# Get unique cluster labels\n",
    "labels = np.unique(clusters)\n",
    "\n",
    "# Transform vectorized data to array\n",
    "data_array = data.toarray()\n",
    "\n",
    "# Create counter for data points of each cluster\n",
    "counter = Counter(clusters)\n",
    "\n",
    "data_array.shape"
   ]
  },
  {
   "cell_type": "code",
   "execution_count": 12,
   "id": "b3581819",
   "metadata": {},
   "outputs": [
    {
     "name": "stdout",
     "output_type": "stream",
     "text": [
      "Cluster: 1\n",
      "Data count: 68\n",
      "      features     score\n",
      "0      concert  0.040731\n",
      "1  overcrowded  0.029728\n",
      "2     festival  0.028044\n",
      "3     football  0.025939\n",
      "4       church  0.023216\n",
      "5       police  0.021645\n",
      "6         game  0.021570\n",
      "7         city  0.020622\n",
      "8     teenager  0.019393\n",
      "9        match  0.017797\n",
      "Cluster: 2\n",
      "Data count: 16\n",
      "    features     score\n",
      "0    station  0.181430\n",
      "1      panic  0.135559\n",
      "2      train  0.085721\n",
      "3      woman  0.079978\n",
      "4  confusion  0.051791\n",
      "5      bihar  0.048820\n",
      "6  nightclub  0.045514\n",
      "7    falling  0.036689\n",
      "8      child  0.036647\n",
      "9      broke  0.036102\n",
      "Cluster: 3\n",
      "Data count: 23\n",
      "    features     score\n",
      "0    stadium  0.278532\n",
      "1        cup  0.064410\n",
      "2        fan  0.060232\n",
      "3      match  0.059309\n",
      "4      enter  0.047265\n",
      "5      crush  0.046381\n",
      "6   football  0.043013\n",
      "7    crushed  0.041761\n",
      "8      world  0.039511\n",
      "9  spectator  0.036047\n",
      "Cluster: 4\n",
      "Data count: 10\n",
      "    features     score\n",
      "0    pilgrim  0.265361\n",
      "1    stoning  0.255426\n",
      "2      devil  0.173814\n",
      "3    jamarat  0.160605\n",
      "4      mecca  0.130294\n",
      "5     ritual  0.125268\n",
      "6       hajj  0.112741\n",
      "7      saudi  0.095901\n",
      "8  religious  0.092002\n",
      "9     bridge  0.091361\n",
      "Cluster: 5\n",
      "Data count: 14\n",
      "   features     score\n",
      "0    school  0.121572\n",
      "1  stairway  0.089884\n",
      "2     child  0.068348\n",
      "3     pupil  0.067160\n",
      "4   primary  0.061199\n",
      "5     crush  0.050210\n",
      "6    bridge  0.050053\n",
      "7   arrived  0.049001\n",
      "8      girl  0.044197\n",
      "9   student  0.043876\n",
      "Cluster: 6\n",
      "Data count: 4\n",
      "      features     score\n",
      "0  celebration  0.607177\n",
      "1     firework  0.189123\n",
      "2      dasehra  0.153816\n",
      "3       gandhi  0.153816\n",
      "4      student  0.146735\n",
      "5      charged  0.087965\n",
      "6       badger  0.087965\n",
      "7    wisconsin  0.087965\n",
      "8        field  0.081505\n",
      "9     football  0.056965\n",
      "Cluster: 7\n",
      "Data count: 21\n",
      "  features     score\n",
      "0  crushed  0.102647\n",
      "1     gate  0.071967\n",
      "2      fan  0.059227\n",
      "3    child  0.054238\n",
      "4   rushed  0.051881\n",
      "5    stair  0.051694\n",
      "6   attack  0.042284\n",
      "7   surged  0.041908\n",
      "8    world  0.040813\n",
      "9    enter  0.036340\n",
      "Cluster: 8\n",
      "Data count: 27\n",
      "     features     score\n",
      "0       crush  0.152164\n",
      "1      temple  0.123602\n",
      "2       hindu  0.044239\n",
      "3      indian  0.036365\n",
      "4    firework  0.032936\n",
      "5  sabarimala  0.030220\n",
      "6     pilgrim  0.028317\n",
      "7     theatre  0.028222\n",
      "8    brooklyn  0.027522\n",
      "9    festival  0.026777\n"
     ]
    }
   ],
   "source": [
    "# Process one cluster at a time\n",
    "for label in labels:\n",
    "#     Print cluster label\n",
    "    print('Cluster: {}'.format(label + 1))\n",
    "    print('Data count: {}'.format(counter[label]))\n",
    "#     Get the index of the data points from the cluster currently being processed\n",
    "    id_temp = np.where(clusters==label)\n",
    "#     Get the average tfidf score of every word feature from all data points\n",
    "    x_means = np.mean(data_array[id_temp], axis = 0) # returns average score across cluster\n",
    "#     Get sorted index of features based on average score    \n",
    "    sorted_means = np.argsort(x_means)[::-1][:10]\n",
    "#     Get feature column names to be incorporated to the results\n",
    "    features = tfidf_vectorizer.get_feature_names()\n",
    "#     Get two dimension list of features and their score based on the sorted features\n",
    "    best_features = [(features[i], x_means[i]) for i in sorted_means]\n",
    "#     Add column names to the sorted features two-dimentional list\n",
    "    df_cluster = pd.DataFrame(best_features, columns = ['features', 'score'])\n",
    "    print(df_cluster)"
   ]
  },
  {
   "cell_type": "markdown",
   "id": "9796ded2",
   "metadata": {},
   "source": [
    "### Topic Modeling Using Non-negative Matrix Factorization (NMF)"
   ]
  },
  {
   "cell_type": "code",
   "execution_count": 13,
   "id": "d7308fd6",
   "metadata": {},
   "outputs": [],
   "source": [
    "# Instantiate the NMF object and define the number of topics\n",
    "\n",
    "t = 8\n",
    "nmf_model = NMF(n_components=t, init='nndsvda', random_state=42)"
   ]
  },
  {
   "cell_type": "code",
   "execution_count": 14,
   "id": "810d1444",
   "metadata": {},
   "outputs": [],
   "source": [
    "# Do count vectorizing\n",
    "\n",
    "count_vectorizer = CountVectorizer(stop_words=stop_words, max_features=None, max_df=0.5, min_df=2)\n",
    "\n",
    "data_count = count_vectorizer.fit_transform(clean_data)\n"
   ]
  },
  {
   "cell_type": "code",
   "execution_count": 15,
   "id": "ac880d05",
   "metadata": {
    "scrolled": false
   },
   "outputs": [
    {
     "data": {
      "text/plain": [
       "NMF(init='nndsvda', n_components=8, random_state=42)"
      ]
     },
     "execution_count": 15,
     "metadata": {},
     "output_type": "execute_result"
    }
   ],
   "source": [
    "# Fit the NMF algorithm\n",
    "\n",
    "nmf_model.fit(data_count)"
   ]
  },
  {
   "cell_type": "code",
   "execution_count": 16,
   "id": "938f11f3",
   "metadata": {},
   "outputs": [
    {
     "data": {
      "text/plain": [
       "(183, 8)"
      ]
     },
     "execution_count": 16,
     "metadata": {},
     "output_type": "execute_result"
    }
   ],
   "source": [
    "# Get the features of the NMF model that is fitted to the data\n",
    "\n",
    "nmf_transform  = nmf_model.transform(data_count)\n",
    "nmf_transform.shape"
   ]
  },
  {
   "cell_type": "code",
   "execution_count": 17,
   "id": "e48f0805",
   "metadata": {},
   "outputs": [
    {
     "data": {
      "text/plain": [
       "0    7\n",
       "1    0\n",
       "2    0\n",
       "3    0\n",
       "4    0\n",
       "dtype: int64"
      ]
     },
     "execution_count": 17,
     "metadata": {},
     "output_type": "execute_result"
    }
   ],
   "source": [
    "# Get the highest value of all topic values and assign it as the topic for each data points\n",
    "\n",
    "df_topic = pd.DataFrame(nmf_transform).idxmax(axis=1)\n",
    "df_topic.head()"
   ]
  },
  {
   "cell_type": "code",
   "execution_count": 18,
   "id": "2cae2ef0",
   "metadata": {
    "scrolled": true
   },
   "outputs": [
    {
     "data": {
      "text/plain": [
       "(8, 253)"
      ]
     },
     "execution_count": 18,
     "metadata": {},
     "output_type": "execute_result"
    }
   ],
   "source": [
    "# Check out the components of the model\n",
    "\n",
    "nmf_model.components_.shape"
   ]
  },
  {
   "cell_type": "code",
   "execution_count": 19,
   "id": "2109563a",
   "metadata": {},
   "outputs": [
    {
     "data": {
      "text/plain": [
       "(8, 253)"
      ]
     },
     "execution_count": 19,
     "metadata": {},
     "output_type": "execute_result"
    }
   ],
   "source": [
    "# Create dataframe of features components\n",
    "\n",
    "nmf_components_df = pd.DataFrame(nmf_model.components_, columns=count_vectorizer.get_feature_names())\n",
    "nmf_components_df.shape"
   ]
  },
  {
   "cell_type": "code",
   "execution_count": 20,
   "id": "0be48d80",
   "metadata": {},
   "outputs": [
    {
     "data": {
      "text/plain": [
       "5    37\n",
       "7    33\n",
       "0    31\n",
       "1    29\n",
       "4    19\n",
       "3    12\n",
       "2    12\n",
       "6    10\n",
       "dtype: int64"
      ]
     },
     "execution_count": 20,
     "metadata": {},
     "output_type": "execute_result"
    }
   ],
   "source": [
    "# Get frequency of each topic in the data\n",
    "\n",
    "# Get the maximum topic value of each data points and then count each\n",
    "nmf_topic_freq = pd.DataFrame(nmf_transform).idxmax(axis=1).value_counts()\n",
    "nmf_topic_freq"
   ]
  },
  {
   "cell_type": "code",
   "execution_count": 21,
   "id": "c80ed44b",
   "metadata": {
    "scrolled": false
   },
   "outputs": [
    {
     "name": "stdout",
     "output_type": "stream",
     "text": [
      "Topic 0\n",
      "Frequency: 31\n",
      "crush        3.565318\n",
      "exit         0.789266\n",
      "school       0.339496\n",
      "escape       0.313686\n",
      "girl         0.261615\n",
      "left         0.256548\n",
      "boy          0.224913\n",
      "packed       0.224580\n",
      "stairway     0.221950\n",
      "nightclub    0.206592\n",
      "Name: 0, dtype: float64\n",
      "\n",
      "\n",
      "Topic 1\n",
      "Frequency: 29\n",
      "stadium         2.145148\n",
      "match           0.524782\n",
      "enter           0.472571\n",
      "cup             0.449516\n",
      "world           0.281573\n",
      "football        0.249569\n",
      "fired           0.227742\n",
      "capital         0.198116\n",
      "national        0.181521\n",
      "independence    0.156292\n",
      "Name: 1, dtype: float64\n",
      "\n",
      "\n",
      "Topic 2\n",
      "Frequency: 12\n",
      "fan          2.109977\n",
      "gate         1.094704\n",
      "collapse     0.390234\n",
      "leaving      0.343413\n",
      "stair        0.322402\n",
      "fell         0.290079\n",
      "burning      0.274188\n",
      "escape       0.262190\n",
      "staircase    0.259536\n",
      "police       0.225446\n",
      "Name: 2, dtype: float64\n",
      "\n",
      "\n",
      "Topic 3\n",
      "Frequency: 12\n",
      "child        2.833246\n",
      "fell         0.945979\n",
      "school       0.736063\n",
      "stairwell    0.717276\n",
      "primary      0.623258\n",
      "pupil        0.598746\n",
      "rushed       0.532101\n",
      "building     0.521268\n",
      "metal        0.490109\n",
      "bell         0.475131\n",
      "Name: 3, dtype: float64\n",
      "\n",
      "\n",
      "Topic 4\n",
      "Frequency: 19\n",
      "pilgrim         2.004302\n",
      "saudi           0.858852\n",
      "hajj            0.485305\n",
      "arabia          0.424823\n",
      "stoning         0.409990\n",
      "devil           0.368939\n",
      "religious       0.335222\n",
      "overcrowding    0.293606\n",
      "ritual          0.286633\n",
      "trampled        0.221702\n",
      "Name: 4, dtype: float64\n",
      "\n",
      "\n",
      "Topic 5\n",
      "Frequency: 37\n",
      "police      1.657424\n",
      "woman       0.954731\n",
      "club        0.900908\n",
      "gas         0.627754\n",
      "fired       0.572908\n",
      "panic       0.471629\n",
      "church      0.287191\n",
      "broke       0.256046\n",
      "security    0.251696\n",
      "force       0.251665\n",
      "Name: 5, dtype: float64\n",
      "\n",
      "\n",
      "Topic 6\n",
      "Frequency: 10\n",
      "student       1.631526\n",
      "game          1.270439\n",
      "football      0.567404\n",
      "university    0.395253\n",
      "ticket        0.393948\n",
      "entrance      0.357114\n",
      "stadium       0.344560\n",
      "attend        0.340312\n",
      "south         0.339281\n",
      "school        0.306025\n",
      "Name: 6, dtype: float64\n",
      "\n",
      "\n",
      "Topic 7\n",
      "Frequency: 33\n",
      "concert        1.460044\n",
      "crushed        0.752451\n",
      "festival       0.623211\n",
      "band           0.391553\n",
      "overcrowded    0.266040\n",
      "collapse       0.241695\n",
      "fan            0.221169\n",
      "shouted        0.220303\n",
      "surged         0.206393\n",
      "exiting        0.200175\n",
      "Name: 7, dtype: float64\n",
      "\n",
      "\n"
     ]
    }
   ],
   "source": [
    "# Get top terms for each topic\n",
    "\n",
    "# Iterate for each topic\n",
    "for topic in range(nmf_components_df.shape[0]):\n",
    "#     Locate the topic\n",
    "    tmp = nmf_components_df.iloc[topic]\n",
    "    print(f'Topic {topic}')\n",
    "#     Print topic frequency\n",
    "    print(f'Frequency: {nmf_topic_freq[topic]}')\n",
    "#     Get the largest 5 words\n",
    "    print(tmp.nlargest(10))\n",
    "    print('\\n')"
   ]
  },
  {
   "cell_type": "markdown",
   "id": "ca224315",
   "metadata": {},
   "source": [
    "### Topic Modeling Using Latent Dirichlet Allocation (LDA)"
   ]
  },
  {
   "cell_type": "code",
   "execution_count": 22,
   "id": "b4d6f74b",
   "metadata": {},
   "outputs": [
    {
     "data": {
      "text/plain": [
       "LatentDirichletAllocation(n_components=8, random_state=42)"
      ]
     },
     "execution_count": 22,
     "metadata": {},
     "output_type": "execute_result"
    }
   ],
   "source": [
    "# Assign number of topics\n",
    "\n",
    "t = 8\n",
    "\n",
    "# Instatiate the algorithm and fit the algorithm to count vectorized data\n",
    "\n",
    "lda_model = LatentDirichletAllocation(n_components=t, learning_method='batch', random_state=42)\n",
    "\n",
    "lda_model.fit(data_count)"
   ]
  },
  {
   "cell_type": "code",
   "execution_count": 23,
   "id": "b6115d87",
   "metadata": {},
   "outputs": [
    {
     "data": {
      "text/plain": [
       "(183, 8)"
      ]
     },
     "execution_count": 23,
     "metadata": {},
     "output_type": "execute_result"
    }
   ],
   "source": [
    "# Get the features of the NMF model that is fitted to the data\n",
    "\n",
    "lda_transform  = lda_model.transform(data_count)\n",
    "lda_transform.shape"
   ]
  },
  {
   "cell_type": "code",
   "execution_count": 24,
   "id": "0e5efc0c",
   "metadata": {},
   "outputs": [
    {
     "data": {
      "text/plain": [
       "(8, 253)"
      ]
     },
     "execution_count": 24,
     "metadata": {},
     "output_type": "execute_result"
    }
   ],
   "source": [
    "# Check out the components of the model\n",
    "\n",
    "lda_model.components_.shape"
   ]
  },
  {
   "cell_type": "code",
   "execution_count": 25,
   "id": "10d60e8f",
   "metadata": {},
   "outputs": [
    {
     "data": {
      "text/plain": [
       "(8, 253)"
      ]
     },
     "execution_count": 25,
     "metadata": {},
     "output_type": "execute_result"
    }
   ],
   "source": [
    "# Create dataframe of features components\n",
    "\n",
    "lda_components_df = pd.DataFrame(lda_model.components_, columns=count_vectorizer.get_feature_names())\n",
    "lda_components_df.shape"
   ]
  },
  {
   "cell_type": "code",
   "execution_count": 26,
   "id": "b7f71beb",
   "metadata": {},
   "outputs": [
    {
     "data": {
      "text/plain": [
       "7    29\n",
       "3    26\n",
       "2    26\n",
       "0    26\n",
       "5    23\n",
       "4    19\n",
       "1    18\n",
       "6    16\n",
       "dtype: int64"
      ]
     },
     "execution_count": 26,
     "metadata": {},
     "output_type": "execute_result"
    }
   ],
   "source": [
    "# Get frequency of each topic in the data\n",
    "\n",
    "# Get the maximum topic value of each data points and then count each\n",
    "lda_topic_freq = pd.DataFrame(lda_transform).idxmax(axis=1).value_counts()\n",
    "lda_topic_freq"
   ]
  },
  {
   "cell_type": "code",
   "execution_count": 27,
   "id": "2716d033",
   "metadata": {
    "scrolled": false
   },
   "outputs": [
    {
     "name": "stdout",
     "output_type": "stream",
     "text": [
      "Topic 0\n",
      "Frequency: 26\n",
      "pilgrim      9.046313\n",
      "crush        8.991729\n",
      "saudi        5.124994\n",
      "station      4.125712\n",
      "stoning      4.125037\n",
      "devil        4.125000\n",
      "woman        3.877663\n",
      "religious    3.125470\n",
      "exit         3.125145\n",
      "escape       3.125021\n",
      "Name: 0, dtype: float64\n",
      "\n",
      "\n",
      "Topic 1\n",
      "Frequency: 18\n",
      "festival     5.991197\n",
      "temple       5.928411\n",
      "hindu        4.125441\n",
      "bridge       4.125226\n",
      "stampeded    3.125032\n",
      "ghat         2.125229\n",
      "jamarat      2.125204\n",
      "mecca        2.125055\n",
      "rushing      2.124965\n",
      "stoning      2.124963\n",
      "Name: 1, dtype: float64\n",
      "\n",
      "\n",
      "Topic 2\n",
      "Frequency: 26\n",
      "crush        10.733920\n",
      "police        9.834701\n",
      "panic         7.124982\n",
      "gas           5.714163\n",
      "fired         5.125243\n",
      "nightclub     4.125064\n",
      "canister      4.124966\n",
      "party         3.124881\n",
      "exit          3.124840\n",
      "station       3.124678\n",
      "Name: 2, dtype: float64\n",
      "\n",
      "\n",
      "Topic 3\n",
      "Frequency: 26\n",
      "crush       6.301477\n",
      "gate        6.125391\n",
      "game        6.125298\n",
      "child       5.125499\n",
      "student     5.125410\n",
      "bridge      5.124739\n",
      "stairway    4.125414\n",
      "fan         4.125131\n",
      "crushed     4.125101\n",
      "stair       4.125054\n",
      "Name: 3, dtype: float64\n",
      "\n",
      "\n",
      "Topic 4\n",
      "Frequency: 19\n",
      "fan        6.448754\n",
      "rushed     5.302046\n",
      "club       5.125223\n",
      "crushed    5.124709\n",
      "concert    4.125546\n",
      "crush      4.125418\n",
      "woman      3.532249\n",
      "police     3.125248\n",
      "ticket     2.763337\n",
      "fell       2.383441\n",
      "Name: 4, dtype: float64\n",
      "\n",
      "\n",
      "Topic 5\n",
      "Frequency: 23\n",
      "stadium        9.125331\n",
      "concert        7.934766\n",
      "crush          6.234777\n",
      "venue          5.124732\n",
      "hall           4.125000\n",
      "enter          3.943232\n",
      "festival       3.259062\n",
      "pakistan       3.124958\n",
      "gate           3.124883\n",
      "overcrowded    3.124793\n",
      "Name: 5, dtype: float64\n",
      "\n",
      "\n",
      "Topic 6\n",
      "Frequency: 16\n",
      "child          4.125956\n",
      "overcrowded    3.125228\n",
      "teenager       3.125135\n",
      "eve            3.125000\n",
      "fan            2.286387\n",
      "stairwell      2.125315\n",
      "fell           2.125294\n",
      "barrier        2.125222\n",
      "collapse       2.125152\n",
      "took           2.125121\n",
      "Name: 6, dtype: float64\n",
      "\n",
      "\n",
      "Topic 7\n",
      "Frequency: 29\n",
      "stadium      17.093243\n",
      "broke         8.125169\n",
      "match         7.899131\n",
      "football      7.873731\n",
      "fan           7.639746\n",
      "cup           6.125177\n",
      "church        5.124991\n",
      "spectator     4.946988\n",
      "crushed       4.124867\n",
      "world         4.029593\n",
      "Name: 7, dtype: float64\n",
      "\n",
      "\n"
     ]
    }
   ],
   "source": [
    "# Get top terms for each topic\n",
    "\n",
    "# Iterate each topic\n",
    "for topic in range(lda_components_df.shape[0]):\n",
    "#     Locate the topic\n",
    "    tmp = lda_components_df.iloc[topic]\n",
    "    print(f'Topic {topic}')\n",
    "#     Print topic frequency\n",
    "    print(f'Frequency: {lda_topic_freq[topic]}')\n",
    "#     Get the largest 5 words\n",
    "    print(tmp.nlargest(10))\n",
    "    print('\\n')"
   ]
  },
  {
   "cell_type": "code",
   "execution_count": 28,
   "id": "a7e17564",
   "metadata": {
    "scrolled": false
   },
   "outputs": [
    {
     "data": {
      "text/html": [
       "<div>\n",
       "<style scoped>\n",
       "    .dataframe tbody tr th:only-of-type {\n",
       "        vertical-align: middle;\n",
       "    }\n",
       "\n",
       "    .dataframe tbody tr th {\n",
       "        vertical-align: top;\n",
       "    }\n",
       "\n",
       "    .dataframe thead th {\n",
       "        text-align: right;\n",
       "    }\n",
       "</style>\n",
       "<table border=\"1\" class=\"dataframe\">\n",
       "  <thead>\n",
       "    <tr style=\"text-align: right;\">\n",
       "      <th></th>\n",
       "      <th>Event ID</th>\n",
       "      <th>Event Name</th>\n",
       "      <th>Date</th>\n",
       "      <th>Number of Deaths</th>\n",
       "      <th>Country</th>\n",
       "      <th>Place</th>\n",
       "      <th>Description</th>\n",
       "      <th>NMF Topic</th>\n",
       "    </tr>\n",
       "  </thead>\n",
       "  <tbody>\n",
       "    <tr>\n",
       "      <th>0</th>\n",
       "      <td>1</td>\n",
       "      <td>1807 Newgate disaster</td>\n",
       "      <td>1807-02-23</td>\n",
       "      <td>30</td>\n",
       "      <td>United Kingdom</td>\n",
       "      <td>Newgate Prison,\\nLondon</td>\n",
       "      <td>Dozens of spectators were crushed to death whe...</td>\n",
       "      <td>7</td>\n",
       "    </tr>\n",
       "    <tr>\n",
       "      <th>1</th>\n",
       "      <td>2</td>\n",
       "      <td>-</td>\n",
       "      <td>1809-03-29</td>\n",
       "      <td>5000</td>\n",
       "      <td>Portugal</td>\n",
       "      <td>Ponte das Barcas [pt]\\nOporto</td>\n",
       "      <td>Thousands of Portuguese civilians died trying ...</td>\n",
       "      <td>0</td>\n",
       "    </tr>\n",
       "    <tr>\n",
       "      <th>2</th>\n",
       "      <td>3</td>\n",
       "      <td>Carnival tragedy of 1823</td>\n",
       "      <td>1823-02-12</td>\n",
       "      <td>110</td>\n",
       "      <td>Malta</td>\n",
       "      <td>Valletta</td>\n",
       "      <td>About 110 boys died in a crush while attemptin...</td>\n",
       "      <td>0</td>\n",
       "    </tr>\n",
       "    <tr>\n",
       "      <th>3</th>\n",
       "      <td>4</td>\n",
       "      <td>Theatre Royal disaster</td>\n",
       "      <td>1849-02-19</td>\n",
       "      <td>65</td>\n",
       "      <td>United Kingdom</td>\n",
       "      <td>Glasgow, Scotland</td>\n",
       "      <td>A human crush occurred at the Theatre Royal, D...</td>\n",
       "      <td>0</td>\n",
       "    </tr>\n",
       "    <tr>\n",
       "      <th>4</th>\n",
       "      <td>5</td>\n",
       "      <td>-</td>\n",
       "      <td>1865-01-16</td>\n",
       "      <td>20</td>\n",
       "      <td>United Kingdom</td>\n",
       "      <td>Dundee, Scotland</td>\n",
       "      <td>A crush occurred during admissions into Bell S...</td>\n",
       "      <td>0</td>\n",
       "    </tr>\n",
       "  </tbody>\n",
       "</table>\n",
       "</div>"
      ],
      "text/plain": [
       "   Event ID                Event Name        Date  Number of Deaths  \\\n",
       "0         1     1807 Newgate disaster  1807-02-23                30   \n",
       "1         2                         -  1809-03-29              5000   \n",
       "2         3  Carnival tragedy of 1823  1823-02-12               110   \n",
       "3         4    Theatre Royal disaster  1849-02-19                65   \n",
       "4         5                         -  1865-01-16                20   \n",
       "\n",
       "          Country                          Place  \\\n",
       "0  United Kingdom        Newgate Prison,\\nLondon   \n",
       "1        Portugal  Ponte das Barcas [pt]\\nOporto   \n",
       "2           Malta                       Valletta   \n",
       "3  United Kingdom              Glasgow, Scotland   \n",
       "4  United Kingdom               Dundee, Scotland   \n",
       "\n",
       "                                         Description  NMF Topic  \n",
       "0  Dozens of spectators were crushed to death whe...          7  \n",
       "1  Thousands of Portuguese civilians died trying ...          0  \n",
       "2  About 110 boys died in a crush while attemptin...          0  \n",
       "3  A human crush occurred at the Theatre Royal, D...          0  \n",
       "4  A crush occurred during admissions into Bell S...          0  "
      ]
     },
     "execution_count": 28,
     "metadata": {},
     "output_type": "execute_result"
    }
   ],
   "source": [
    "# Assign the topic from NMF topic modeling to a new column in master data frame\n",
    "\n",
    "df['NMF Topic'] = df_topic\n",
    "\n",
    "df.to_excel('1225_dataset2.xlsx')\n",
    "df.head()"
   ]
  }
 ],
 "metadata": {
  "kernelspec": {
   "display_name": "Python 3 (ipykernel)",
   "language": "python",
   "name": "python3"
  },
  "language_info": {
   "codemirror_mode": {
    "name": "ipython",
    "version": 3
   },
   "file_extension": ".py",
   "mimetype": "text/x-python",
   "name": "python",
   "nbconvert_exporter": "python",
   "pygments_lexer": "ipython3",
   "version": "3.9.7"
  }
 },
 "nbformat": 4,
 "nbformat_minor": 5
}
