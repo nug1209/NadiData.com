{
 "cells": [
  {
   "cell_type": "code",
   "execution_count": 1,
   "id": "4a58876b",
   "metadata": {},
   "outputs": [],
   "source": [
    "# Import necessary libraries\n",
    "\n",
    "from pytrends.request import TrendReq\n",
    "import pandas as pd\n",
    "import requests\n",
    "import lxml\n",
    "from datetime import datetime\n",
    "import credential\n",
    "import pymysql"
   ]
  },
  {
   "cell_type": "code",
   "execution_count": 2,
   "id": "916a1a81",
   "metadata": {},
   "outputs": [
    {
     "name": "stdout",
     "output_type": "stream",
     "text": [
      "Enter target country (use correct capitalization and white space, empty this field if you are pushing labeled table): United States\n"
     ]
    }
   ],
   "source": [
    "# Input the target country\n",
    "\n",
    "val = input(\"Enter target country (use correct capitalization and white space, empty this field if you are pushing labeled table): \")"
   ]
  },
  {
   "cell_type": "code",
   "execution_count": 3,
   "id": "db5e8fc8",
   "metadata": {},
   "outputs": [
    {
     "name": "stdout",
     "output_type": "stream",
     "text": [
      "Enter the date of the data (YYY-MM-DD), insert this if you intend to only update database, too:2022-03-27\n"
     ]
    }
   ],
   "source": [
    "# Input date of interest\n",
    "date_of_interest = input(\"Enter the date of the data (YYY-MM-DD), insert this if you intend to only update database, too:\")"
   ]
  },
  {
   "cell_type": "code",
   "execution_count": 4,
   "id": "7663b7b3",
   "metadata": {},
   "outputs": [
    {
     "name": "stdout",
     "output_type": "stream",
     "text": [
      "Enter the number of offset if the day change time is missed: 1\n"
     ]
    }
   ],
   "source": [
    "# Input the number of passed data points or offset if the day change time is missed\n",
    "\n",
    "offset = input(\"Enter the number of offset if the day change time is missed: \")"
   ]
  },
  {
   "cell_type": "code",
   "execution_count": 5,
   "id": "1c412ee6",
   "metadata": {},
   "outputs": [
    {
     "name": "stdout",
     "output_type": "stream",
     "text": [
      "Enter the number of data rows available: 20\n"
     ]
    }
   ],
   "source": [
    "# Input the number of data rows\n",
    "\n",
    "rows = input(\"Enter the number of data rows available: \")"
   ]
  },
  {
   "cell_type": "code",
   "execution_count": 6,
   "id": "6450a3d1",
   "metadata": {},
   "outputs": [
    {
     "name": "stdout",
     "output_type": "stream",
     "text": [
      "Labeled country data to be pushed, if there is any (use correct capitalization and white space): \n"
     ]
    }
   ],
   "source": [
    "# Input country data to be pushed to database after being labeled\n",
    "\n",
    "val_labeled = input(\"Labeled country data to be pushed, if there is any (use correct capitalization and white space): \")"
   ]
  },
  {
   "cell_type": "code",
   "execution_count": 7,
   "id": "aee8a5a4",
   "metadata": {},
   "outputs": [],
   "source": [
    "# Create list of countries in need of labeling\n",
    "to_label = ['Indonesia',\n",
    "            'United States',\n",
    "            'Australia',\n",
    "            'United Kingdom',\n",
    "            'Singapore']"
   ]
  },
  {
   "cell_type": "code",
   "execution_count": 8,
   "id": "258056c6",
   "metadata": {},
   "outputs": [],
   "source": [
    "# Create dictionary of country names for mapping\n",
    "\n",
    "ctr = {'Indonesia': 'indonesia',\n",
    "      'Singapore': 'singapore',\n",
    "      'United States': 'united_states',\n",
    "      'United Kingdom': 'united_kingdom',\n",
    "      'Australia': 'australia',\n",
    "      'India': 'india',\n",
    "      'South Korea': 'south_korea',\n",
    "      'Russia': 'russia',\n",
    "      'Germany': 'germany',\n",
    "      'France': 'france',\n",
    "      'Japan': 'japan'}"
   ]
  },
  {
   "cell_type": "code",
   "execution_count": 9,
   "id": "6e30a86a",
   "metadata": {},
   "outputs": [],
   "source": [
    "def get_trends(val, date_of_interest, offset, rows):\n",
    "    \n",
    "    # Create dictionary of country names for mapping\n",
    "\n",
    "    ctr = {'Indonesia': 'indonesia',\n",
    "          'Singapore': 'singapore',\n",
    "          'United States': 'united_states',\n",
    "          'United Kingdom': 'united_kingdom',\n",
    "          'Australia': 'australia',\n",
    "          'India': 'india',\n",
    "          'South Korea': 'south_korea',\n",
    "          'Russia': 'russia',\n",
    "          'Germany': 'germany',\n",
    "          'France': 'france',\n",
    "          'Japan': 'japan'}\n",
    "\n",
    "# Instantiate the pytrends object\n",
    "\n",
    "    pytrends = TrendReq()\n",
    "\n",
    "# Get the trending searches\n",
    "\n",
    "    df = pytrends.trending_searches(pn=ctr[val])\n",
    "\n",
    "# Get the date of interest and put it in a column\n",
    "\n",
    "    df['log_date'] = date_of_interest\n",
    "    \n",
    "# Handle the offset\n",
    "    \n",
    "    offst = 0\n",
    "    if offset !=\"\" :\n",
    "        offst = int(offset)\n",
    "        \n",
    "    df = df.tail(20-offst)\n",
    "\n",
    "# Handle the data rows number just in case the number of rows is not 20\n",
    "    \n",
    "    rows_to_get = 0\n",
    "    \n",
    "    if rows !=\"\" :\n",
    "        if len(df) >= int(rows):\n",
    "            rows_to_get = int(rows)\n",
    "        else:\n",
    "            rows_to_get = len(df)\n",
    "        \n",
    "    df = df.head(rows_to_get)\n",
    "\n",
    "# Get the term rank numbers based on order of the data and put them in a column\n",
    "\n",
    "    df['term_rank'] = range(1, len(df)+1)\n",
    "\n",
    "# Rename the term column\n",
    "\n",
    "    df = df.rename(columns={0: 'term'})\n",
    "\n",
    "#  Create an topic column\n",
    "    \n",
    "    df['topic'] = 'No Topic'\n",
    "\n",
    "# Create the country column\n",
    "\n",
    "    df['country'] = val\n",
    "\n",
    "# Reorder the columns\n",
    "\n",
    "    df = df[['log_date', 'country', 'term', 'topic', 'term_rank']]\n",
    "\n",
    "# Export to Excel\n",
    "\n",
    "    path = \"C:/Users/Nugroho Budianggoro/Documents/NadiData/1282/data/\"\n",
    "    filename = path + \"trending_searches_\" + str(ctr[val]) + \"_\" + date_of_interest + \".xlsx\"\n",
    "    df.to_excel(filename, index=False)\n",
    " \n",
    "    return df"
   ]
  },
  {
   "cell_type": "code",
   "execution_count": 10,
   "id": "cc8c6ec4",
   "metadata": {},
   "outputs": [],
   "source": [
    "# Define function to update database\n",
    "\n",
    "def update_db(df, no_topic):\n",
    "    \n",
    "    if no_topic == False:\n",
    "    # Map the topic abbreviations to normal topic titles\n",
    "\n",
    "        df_news_cat = pd.read_csv(\"news_cat.csv\", sep=\";\")\n",
    "\n",
    "        df['topic'] = df['topic'].map(df_news_cat.set_index('topic')['full_topic'])\n",
    "\n",
    "    # Duplicate dataframe and then change the term values into topic values\n",
    "\n",
    "        df_topics = df.copy()\n",
    "        df_topics['term'] = \"TOPIC \" + df_topics['topic']\n",
    "\n",
    "    # Append the dataframe of topics into the original data frame\n",
    "\n",
    "        df = df.append(df_topics, ignore_index=True)\n",
    "    \n",
    "# Establish connection to the database\n",
    "\n",
    "    connection = pymysql.connect(host=credential.host,\n",
    "                                user=credential.user,\n",
    "                                password=credential.password,\n",
    "                                db=credential.database)\n",
    "\n",
    "    cursor = connection.cursor()\n",
    "\n",
    "    # Get number of rows before addition\n",
    "\n",
    "    sql = \"SELECT * FROM `trending_search`\"\n",
    "    count_before = cursor.execute(sql)\n",
    "\n",
    "# Add the new rows to the table while generating log about how many rows were added\n",
    "\n",
    "    try:\n",
    "        cols = \"`,`\".join([str(i) for i in df.columns.tolist()])\n",
    "        for i, row in df.iterrows():\n",
    "            sql = \"INSERT INTO `trending_search` (`\" +cols + \"`) VALUES (\" + \"%s,\"*(len(row)-1) + \"%s)\"\n",
    "            cursor.execute(sql, tuple(row))\n",
    "            connection.commit()\n",
    "        sql = \"SELECT * FROM `trending_search`\"\n",
    "        count_after = cursor.execute(sql)\n",
    "        count_addition = count_after - count_before\n",
    "        text = \"Succesfully added \" + str(count_addition) + \" rows of data.\"\n",
    "        print(text)\n",
    "\n",
    "    except pymysql.Error as e:\n",
    "        print(e)\n",
    "\n",
    "    cursor.close()\n",
    "    connection.close()"
   ]
  },
  {
   "cell_type": "code",
   "execution_count": 11,
   "id": "efa071f7",
   "metadata": {},
   "outputs": [],
   "source": [
    "# Create function for processing between the in need of label and no need for label countries\n",
    "\n",
    "if val !=\"\" and val not in to_label :\n",
    "    df = get_trends(val, date_of_interest, offset, rows)\n",
    "    no_topic = True\n",
    "    update_db(df, no_topic)\n",
    "    \n",
    "elif val !=\"\" and val in to_label:\n",
    "    get_trends(val, date_of_interest, offset, rows)\n",
    "    \n",
    "elif val_labeled != \"\" :\n",
    "    country_filename = ctr[val_labeled]\n",
    "    path = \"C:/Users/Nugroho Budianggoro/Documents/NadiData/1282/data/\"\n",
    "    df = pd.read_excel(path + \"trending_searches_\" + country_filename + \"_\" + date_of_interest + \".xlsx\")\n",
    "    no_topic = False\n",
    "    update_db(df, no_topic)"
   ]
  }
 ],
 "metadata": {
  "kernelspec": {
   "display_name": "Python 3 (ipykernel)",
   "language": "python",
   "name": "python3"
  },
  "language_info": {
   "codemirror_mode": {
    "name": "ipython",
    "version": 3
   },
   "file_extension": ".py",
   "mimetype": "text/x-python",
   "name": "python",
   "nbconvert_exporter": "python",
   "pygments_lexer": "ipython3",
   "version": "3.9.7"
  }
 },
 "nbformat": 4,
 "nbformat_minor": 5
}
